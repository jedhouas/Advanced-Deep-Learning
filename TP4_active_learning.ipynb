{
  "nbformat": 4,
  "nbformat_minor": 0,
  "metadata": {
    "kernelspec": {
      "name": "python3",
      "display_name": "Python 3"
    },
    "language_info": {
      "codemirror_mode": {
        "name": "ipython",
        "version": 3
      },
      "file_extension": ".py",
      "mimetype": "text/x-python",
      "name": "python",
      "nbconvert_exporter": "python",
      "pygments_lexer": "ipython3",
      "version": "3.6.9"
    },
    "colab": {
      "name": "TP4_active_learning.ipynb",
      "provenance": [],
      "collapsed_sections": [],
      "include_colab_link": true
    },
    "accelerator": "GPU",
    "widgets": {
      "application/vnd.jupyter.widget-state+json": {
        "cacc5957b4e84032a2fe227ee12d6023": {
          "model_module": "@jupyter-widgets/controls",
          "model_name": "HBoxModel",
          "state": {
            "_view_name": "HBoxView",
            "_dom_classes": [],
            "_model_name": "HBoxModel",
            "_view_module": "@jupyter-widgets/controls",
            "_model_module_version": "1.5.0",
            "_view_count": null,
            "_view_module_version": "1.5.0",
            "box_style": "",
            "layout": "IPY_MODEL_f7f9fdff625f4f95be499a392e042391",
            "_model_module": "@jupyter-widgets/controls",
            "children": [
              "IPY_MODEL_556e28784a9a419681eb45b25607342e",
              "IPY_MODEL_b202575e35ff43d3a8104f06e6a39fe4"
            ]
          }
        },
        "f7f9fdff625f4f95be499a392e042391": {
          "model_module": "@jupyter-widgets/base",
          "model_name": "LayoutModel",
          "state": {
            "_view_name": "LayoutView",
            "grid_template_rows": null,
            "right": null,
            "justify_content": null,
            "_view_module": "@jupyter-widgets/base",
            "overflow": null,
            "_model_module_version": "1.2.0",
            "_view_count": null,
            "flex_flow": null,
            "width": null,
            "min_width": null,
            "border": null,
            "align_items": null,
            "bottom": null,
            "_model_module": "@jupyter-widgets/base",
            "top": null,
            "grid_column": null,
            "overflow_y": null,
            "overflow_x": null,
            "grid_auto_flow": null,
            "grid_area": null,
            "grid_template_columns": null,
            "flex": null,
            "_model_name": "LayoutModel",
            "justify_items": null,
            "grid_row": null,
            "max_height": null,
            "align_content": null,
            "visibility": null,
            "align_self": null,
            "height": null,
            "min_height": null,
            "padding": null,
            "grid_auto_rows": null,
            "grid_gap": null,
            "max_width": null,
            "order": null,
            "_view_module_version": "1.2.0",
            "grid_template_areas": null,
            "object_position": null,
            "object_fit": null,
            "grid_auto_columns": null,
            "margin": null,
            "display": null,
            "left": null
          }
        },
        "556e28784a9a419681eb45b25607342e": {
          "model_module": "@jupyter-widgets/controls",
          "model_name": "IntProgressModel",
          "state": {
            "_view_name": "ProgressView",
            "style": "IPY_MODEL_22378684a4094aca8c0a78abf40cf27b",
            "_dom_classes": [],
            "description": "",
            "_model_name": "IntProgressModel",
            "bar_style": "success",
            "max": 1,
            "_view_module": "@jupyter-widgets/controls",
            "_model_module_version": "1.5.0",
            "value": 1,
            "_view_count": null,
            "_view_module_version": "1.5.0",
            "orientation": "horizontal",
            "min": 0,
            "description_tooltip": null,
            "_model_module": "@jupyter-widgets/controls",
            "layout": "IPY_MODEL_d7a1e75de1344b20bf29d337956a7a3f"
          }
        },
        "b202575e35ff43d3a8104f06e6a39fe4": {
          "model_module": "@jupyter-widgets/controls",
          "model_name": "HTMLModel",
          "state": {
            "_view_name": "HTMLView",
            "style": "IPY_MODEL_20aeb7d8d9a744d692e074e84c659321",
            "_dom_classes": [],
            "description": "",
            "_model_name": "HTMLModel",
            "placeholder": "​",
            "_view_module": "@jupyter-widgets/controls",
            "_model_module_version": "1.5.0",
            "value": "9920512it [00:02, 3574721.75it/s]",
            "_view_count": null,
            "_view_module_version": "1.5.0",
            "description_tooltip": null,
            "_model_module": "@jupyter-widgets/controls",
            "layout": "IPY_MODEL_12c6530d986a4184ae33042ad5b45677"
          }
        },
        "22378684a4094aca8c0a78abf40cf27b": {
          "model_module": "@jupyter-widgets/controls",
          "model_name": "ProgressStyleModel",
          "state": {
            "_view_name": "StyleView",
            "_model_name": "ProgressStyleModel",
            "description_width": "",
            "_view_module": "@jupyter-widgets/base",
            "_model_module_version": "1.5.0",
            "_view_count": null,
            "_view_module_version": "1.2.0",
            "bar_color": null,
            "_model_module": "@jupyter-widgets/controls"
          }
        },
        "d7a1e75de1344b20bf29d337956a7a3f": {
          "model_module": "@jupyter-widgets/base",
          "model_name": "LayoutModel",
          "state": {
            "_view_name": "LayoutView",
            "grid_template_rows": null,
            "right": null,
            "justify_content": null,
            "_view_module": "@jupyter-widgets/base",
            "overflow": null,
            "_model_module_version": "1.2.0",
            "_view_count": null,
            "flex_flow": null,
            "width": null,
            "min_width": null,
            "border": null,
            "align_items": null,
            "bottom": null,
            "_model_module": "@jupyter-widgets/base",
            "top": null,
            "grid_column": null,
            "overflow_y": null,
            "overflow_x": null,
            "grid_auto_flow": null,
            "grid_area": null,
            "grid_template_columns": null,
            "flex": null,
            "_model_name": "LayoutModel",
            "justify_items": null,
            "grid_row": null,
            "max_height": null,
            "align_content": null,
            "visibility": null,
            "align_self": null,
            "height": null,
            "min_height": null,
            "padding": null,
            "grid_auto_rows": null,
            "grid_gap": null,
            "max_width": null,
            "order": null,
            "_view_module_version": "1.2.0",
            "grid_template_areas": null,
            "object_position": null,
            "object_fit": null,
            "grid_auto_columns": null,
            "margin": null,
            "display": null,
            "left": null
          }
        },
        "20aeb7d8d9a744d692e074e84c659321": {
          "model_module": "@jupyter-widgets/controls",
          "model_name": "DescriptionStyleModel",
          "state": {
            "_view_name": "StyleView",
            "_model_name": "DescriptionStyleModel",
            "description_width": "",
            "_view_module": "@jupyter-widgets/base",
            "_model_module_version": "1.5.0",
            "_view_count": null,
            "_view_module_version": "1.2.0",
            "_model_module": "@jupyter-widgets/controls"
          }
        },
        "12c6530d986a4184ae33042ad5b45677": {
          "model_module": "@jupyter-widgets/base",
          "model_name": "LayoutModel",
          "state": {
            "_view_name": "LayoutView",
            "grid_template_rows": null,
            "right": null,
            "justify_content": null,
            "_view_module": "@jupyter-widgets/base",
            "overflow": null,
            "_model_module_version": "1.2.0",
            "_view_count": null,
            "flex_flow": null,
            "width": null,
            "min_width": null,
            "border": null,
            "align_items": null,
            "bottom": null,
            "_model_module": "@jupyter-widgets/base",
            "top": null,
            "grid_column": null,
            "overflow_y": null,
            "overflow_x": null,
            "grid_auto_flow": null,
            "grid_area": null,
            "grid_template_columns": null,
            "flex": null,
            "_model_name": "LayoutModel",
            "justify_items": null,
            "grid_row": null,
            "max_height": null,
            "align_content": null,
            "visibility": null,
            "align_self": null,
            "height": null,
            "min_height": null,
            "padding": null,
            "grid_auto_rows": null,
            "grid_gap": null,
            "max_width": null,
            "order": null,
            "_view_module_version": "1.2.0",
            "grid_template_areas": null,
            "object_position": null,
            "object_fit": null,
            "grid_auto_columns": null,
            "margin": null,
            "display": null,
            "left": null
          }
        },
        "d5bf20be3ea5495c84c865c588e3e003": {
          "model_module": "@jupyter-widgets/controls",
          "model_name": "HBoxModel",
          "state": {
            "_view_name": "HBoxView",
            "_dom_classes": [],
            "_model_name": "HBoxModel",
            "_view_module": "@jupyter-widgets/controls",
            "_model_module_version": "1.5.0",
            "_view_count": null,
            "_view_module_version": "1.5.0",
            "box_style": "",
            "layout": "IPY_MODEL_8e49e3ba737b4c74b13a1bfbca0d58ec",
            "_model_module": "@jupyter-widgets/controls",
            "children": [
              "IPY_MODEL_e9aeae5ed73f4c6a98287ad90c67b634",
              "IPY_MODEL_2fee5845adaa4256ac4359d8148005c4"
            ]
          }
        },
        "8e49e3ba737b4c74b13a1bfbca0d58ec": {
          "model_module": "@jupyter-widgets/base",
          "model_name": "LayoutModel",
          "state": {
            "_view_name": "LayoutView",
            "grid_template_rows": null,
            "right": null,
            "justify_content": null,
            "_view_module": "@jupyter-widgets/base",
            "overflow": null,
            "_model_module_version": "1.2.0",
            "_view_count": null,
            "flex_flow": null,
            "width": null,
            "min_width": null,
            "border": null,
            "align_items": null,
            "bottom": null,
            "_model_module": "@jupyter-widgets/base",
            "top": null,
            "grid_column": null,
            "overflow_y": null,
            "overflow_x": null,
            "grid_auto_flow": null,
            "grid_area": null,
            "grid_template_columns": null,
            "flex": null,
            "_model_name": "LayoutModel",
            "justify_items": null,
            "grid_row": null,
            "max_height": null,
            "align_content": null,
            "visibility": null,
            "align_self": null,
            "height": null,
            "min_height": null,
            "padding": null,
            "grid_auto_rows": null,
            "grid_gap": null,
            "max_width": null,
            "order": null,
            "_view_module_version": "1.2.0",
            "grid_template_areas": null,
            "object_position": null,
            "object_fit": null,
            "grid_auto_columns": null,
            "margin": null,
            "display": null,
            "left": null
          }
        },
        "e9aeae5ed73f4c6a98287ad90c67b634": {
          "model_module": "@jupyter-widgets/controls",
          "model_name": "IntProgressModel",
          "state": {
            "_view_name": "ProgressView",
            "style": "IPY_MODEL_cd590bce8cdc4d94883ba6d7fcab350e",
            "_dom_classes": [],
            "description": "",
            "_model_name": "IntProgressModel",
            "bar_style": "success",
            "max": 1,
            "_view_module": "@jupyter-widgets/controls",
            "_model_module_version": "1.5.0",
            "value": 1,
            "_view_count": null,
            "_view_module_version": "1.5.0",
            "orientation": "horizontal",
            "min": 0,
            "description_tooltip": null,
            "_model_module": "@jupyter-widgets/controls",
            "layout": "IPY_MODEL_f33f114fb2e84f48911fd0708717571e"
          }
        },
        "2fee5845adaa4256ac4359d8148005c4": {
          "model_module": "@jupyter-widgets/controls",
          "model_name": "HTMLModel",
          "state": {
            "_view_name": "HTMLView",
            "style": "IPY_MODEL_cb82f9c9be774fb299b47760182fbb38",
            "_dom_classes": [],
            "description": "",
            "_model_name": "HTMLModel",
            "placeholder": "​",
            "_view_module": "@jupyter-widgets/controls",
            "_model_module_version": "1.5.0",
            "value": "32768it [00:00, 53719.24it/s]",
            "_view_count": null,
            "_view_module_version": "1.5.0",
            "description_tooltip": null,
            "_model_module": "@jupyter-widgets/controls",
            "layout": "IPY_MODEL_04e9d409c2ae4ec28cf45707eb92c39e"
          }
        },
        "cd590bce8cdc4d94883ba6d7fcab350e": {
          "model_module": "@jupyter-widgets/controls",
          "model_name": "ProgressStyleModel",
          "state": {
            "_view_name": "StyleView",
            "_model_name": "ProgressStyleModel",
            "description_width": "",
            "_view_module": "@jupyter-widgets/base",
            "_model_module_version": "1.5.0",
            "_view_count": null,
            "_view_module_version": "1.2.0",
            "bar_color": null,
            "_model_module": "@jupyter-widgets/controls"
          }
        },
        "f33f114fb2e84f48911fd0708717571e": {
          "model_module": "@jupyter-widgets/base",
          "model_name": "LayoutModel",
          "state": {
            "_view_name": "LayoutView",
            "grid_template_rows": null,
            "right": null,
            "justify_content": null,
            "_view_module": "@jupyter-widgets/base",
            "overflow": null,
            "_model_module_version": "1.2.0",
            "_view_count": null,
            "flex_flow": null,
            "width": null,
            "min_width": null,
            "border": null,
            "align_items": null,
            "bottom": null,
            "_model_module": "@jupyter-widgets/base",
            "top": null,
            "grid_column": null,
            "overflow_y": null,
            "overflow_x": null,
            "grid_auto_flow": null,
            "grid_area": null,
            "grid_template_columns": null,
            "flex": null,
            "_model_name": "LayoutModel",
            "justify_items": null,
            "grid_row": null,
            "max_height": null,
            "align_content": null,
            "visibility": null,
            "align_self": null,
            "height": null,
            "min_height": null,
            "padding": null,
            "grid_auto_rows": null,
            "grid_gap": null,
            "max_width": null,
            "order": null,
            "_view_module_version": "1.2.0",
            "grid_template_areas": null,
            "object_position": null,
            "object_fit": null,
            "grid_auto_columns": null,
            "margin": null,
            "display": null,
            "left": null
          }
        },
        "cb82f9c9be774fb299b47760182fbb38": {
          "model_module": "@jupyter-widgets/controls",
          "model_name": "DescriptionStyleModel",
          "state": {
            "_view_name": "StyleView",
            "_model_name": "DescriptionStyleModel",
            "description_width": "",
            "_view_module": "@jupyter-widgets/base",
            "_model_module_version": "1.5.0",
            "_view_count": null,
            "_view_module_version": "1.2.0",
            "_model_module": "@jupyter-widgets/controls"
          }
        },
        "04e9d409c2ae4ec28cf45707eb92c39e": {
          "model_module": "@jupyter-widgets/base",
          "model_name": "LayoutModel",
          "state": {
            "_view_name": "LayoutView",
            "grid_template_rows": null,
            "right": null,
            "justify_content": null,
            "_view_module": "@jupyter-widgets/base",
            "overflow": null,
            "_model_module_version": "1.2.0",
            "_view_count": null,
            "flex_flow": null,
            "width": null,
            "min_width": null,
            "border": null,
            "align_items": null,
            "bottom": null,
            "_model_module": "@jupyter-widgets/base",
            "top": null,
            "grid_column": null,
            "overflow_y": null,
            "overflow_x": null,
            "grid_auto_flow": null,
            "grid_area": null,
            "grid_template_columns": null,
            "flex": null,
            "_model_name": "LayoutModel",
            "justify_items": null,
            "grid_row": null,
            "max_height": null,
            "align_content": null,
            "visibility": null,
            "align_self": null,
            "height": null,
            "min_height": null,
            "padding": null,
            "grid_auto_rows": null,
            "grid_gap": null,
            "max_width": null,
            "order": null,
            "_view_module_version": "1.2.0",
            "grid_template_areas": null,
            "object_position": null,
            "object_fit": null,
            "grid_auto_columns": null,
            "margin": null,
            "display": null,
            "left": null
          }
        },
        "7f4fcc768bd94513a20bde1fd6a9591f": {
          "model_module": "@jupyter-widgets/controls",
          "model_name": "HBoxModel",
          "state": {
            "_view_name": "HBoxView",
            "_dom_classes": [],
            "_model_name": "HBoxModel",
            "_view_module": "@jupyter-widgets/controls",
            "_model_module_version": "1.5.0",
            "_view_count": null,
            "_view_module_version": "1.5.0",
            "box_style": "",
            "layout": "IPY_MODEL_11c3bf9d6b7747b8973b3a0611fef80f",
            "_model_module": "@jupyter-widgets/controls",
            "children": [
              "IPY_MODEL_bc3768e96a1843c6aa37e0758330885e",
              "IPY_MODEL_7f87f3907d794607bd642a10f0c27ead"
            ]
          }
        },
        "11c3bf9d6b7747b8973b3a0611fef80f": {
          "model_module": "@jupyter-widgets/base",
          "model_name": "LayoutModel",
          "state": {
            "_view_name": "LayoutView",
            "grid_template_rows": null,
            "right": null,
            "justify_content": null,
            "_view_module": "@jupyter-widgets/base",
            "overflow": null,
            "_model_module_version": "1.2.0",
            "_view_count": null,
            "flex_flow": null,
            "width": null,
            "min_width": null,
            "border": null,
            "align_items": null,
            "bottom": null,
            "_model_module": "@jupyter-widgets/base",
            "top": null,
            "grid_column": null,
            "overflow_y": null,
            "overflow_x": null,
            "grid_auto_flow": null,
            "grid_area": null,
            "grid_template_columns": null,
            "flex": null,
            "_model_name": "LayoutModel",
            "justify_items": null,
            "grid_row": null,
            "max_height": null,
            "align_content": null,
            "visibility": null,
            "align_self": null,
            "height": null,
            "min_height": null,
            "padding": null,
            "grid_auto_rows": null,
            "grid_gap": null,
            "max_width": null,
            "order": null,
            "_view_module_version": "1.2.0",
            "grid_template_areas": null,
            "object_position": null,
            "object_fit": null,
            "grid_auto_columns": null,
            "margin": null,
            "display": null,
            "left": null
          }
        },
        "bc3768e96a1843c6aa37e0758330885e": {
          "model_module": "@jupyter-widgets/controls",
          "model_name": "IntProgressModel",
          "state": {
            "_view_name": "ProgressView",
            "style": "IPY_MODEL_022a2f8e3f3442619a7d1fe9d37a1d4e",
            "_dom_classes": [],
            "description": "",
            "_model_name": "IntProgressModel",
            "bar_style": "success",
            "max": 1,
            "_view_module": "@jupyter-widgets/controls",
            "_model_module_version": "1.5.0",
            "value": 1,
            "_view_count": null,
            "_view_module_version": "1.5.0",
            "orientation": "horizontal",
            "min": 0,
            "description_tooltip": null,
            "_model_module": "@jupyter-widgets/controls",
            "layout": "IPY_MODEL_f86c4898751f4ff5987f0f054d8a3574"
          }
        },
        "7f87f3907d794607bd642a10f0c27ead": {
          "model_module": "@jupyter-widgets/controls",
          "model_name": "HTMLModel",
          "state": {
            "_view_name": "HTMLView",
            "style": "IPY_MODEL_d6ce2ab80b6f4816abd01d201555baf1",
            "_dom_classes": [],
            "description": "",
            "_model_name": "HTMLModel",
            "placeholder": "​",
            "_view_module": "@jupyter-widgets/controls",
            "_model_module_version": "1.5.0",
            "value": "1654784it [00:01, 835297.07it/s]",
            "_view_count": null,
            "_view_module_version": "1.5.0",
            "description_tooltip": null,
            "_model_module": "@jupyter-widgets/controls",
            "layout": "IPY_MODEL_4f80bcd3ae5d478d93b1c74b59f267da"
          }
        },
        "022a2f8e3f3442619a7d1fe9d37a1d4e": {
          "model_module": "@jupyter-widgets/controls",
          "model_name": "ProgressStyleModel",
          "state": {
            "_view_name": "StyleView",
            "_model_name": "ProgressStyleModel",
            "description_width": "",
            "_view_module": "@jupyter-widgets/base",
            "_model_module_version": "1.5.0",
            "_view_count": null,
            "_view_module_version": "1.2.0",
            "bar_color": null,
            "_model_module": "@jupyter-widgets/controls"
          }
        },
        "f86c4898751f4ff5987f0f054d8a3574": {
          "model_module": "@jupyter-widgets/base",
          "model_name": "LayoutModel",
          "state": {
            "_view_name": "LayoutView",
            "grid_template_rows": null,
            "right": null,
            "justify_content": null,
            "_view_module": "@jupyter-widgets/base",
            "overflow": null,
            "_model_module_version": "1.2.0",
            "_view_count": null,
            "flex_flow": null,
            "width": null,
            "min_width": null,
            "border": null,
            "align_items": null,
            "bottom": null,
            "_model_module": "@jupyter-widgets/base",
            "top": null,
            "grid_column": null,
            "overflow_y": null,
            "overflow_x": null,
            "grid_auto_flow": null,
            "grid_area": null,
            "grid_template_columns": null,
            "flex": null,
            "_model_name": "LayoutModel",
            "justify_items": null,
            "grid_row": null,
            "max_height": null,
            "align_content": null,
            "visibility": null,
            "align_self": null,
            "height": null,
            "min_height": null,
            "padding": null,
            "grid_auto_rows": null,
            "grid_gap": null,
            "max_width": null,
            "order": null,
            "_view_module_version": "1.2.0",
            "grid_template_areas": null,
            "object_position": null,
            "object_fit": null,
            "grid_auto_columns": null,
            "margin": null,
            "display": null,
            "left": null
          }
        },
        "d6ce2ab80b6f4816abd01d201555baf1": {
          "model_module": "@jupyter-widgets/controls",
          "model_name": "DescriptionStyleModel",
          "state": {
            "_view_name": "StyleView",
            "_model_name": "DescriptionStyleModel",
            "description_width": "",
            "_view_module": "@jupyter-widgets/base",
            "_model_module_version": "1.5.0",
            "_view_count": null,
            "_view_module_version": "1.2.0",
            "_model_module": "@jupyter-widgets/controls"
          }
        },
        "4f80bcd3ae5d478d93b1c74b59f267da": {
          "model_module": "@jupyter-widgets/base",
          "model_name": "LayoutModel",
          "state": {
            "_view_name": "LayoutView",
            "grid_template_rows": null,
            "right": null,
            "justify_content": null,
            "_view_module": "@jupyter-widgets/base",
            "overflow": null,
            "_model_module_version": "1.2.0",
            "_view_count": null,
            "flex_flow": null,
            "width": null,
            "min_width": null,
            "border": null,
            "align_items": null,
            "bottom": null,
            "_model_module": "@jupyter-widgets/base",
            "top": null,
            "grid_column": null,
            "overflow_y": null,
            "overflow_x": null,
            "grid_auto_flow": null,
            "grid_area": null,
            "grid_template_columns": null,
            "flex": null,
            "_model_name": "LayoutModel",
            "justify_items": null,
            "grid_row": null,
            "max_height": null,
            "align_content": null,
            "visibility": null,
            "align_self": null,
            "height": null,
            "min_height": null,
            "padding": null,
            "grid_auto_rows": null,
            "grid_gap": null,
            "max_width": null,
            "order": null,
            "_view_module_version": "1.2.0",
            "grid_template_areas": null,
            "object_position": null,
            "object_fit": null,
            "grid_auto_columns": null,
            "margin": null,
            "display": null,
            "left": null
          }
        },
        "075b6b97ba3f4e5096358b35452a2f76": {
          "model_module": "@jupyter-widgets/controls",
          "model_name": "HBoxModel",
          "state": {
            "_view_name": "HBoxView",
            "_dom_classes": [],
            "_model_name": "HBoxModel",
            "_view_module": "@jupyter-widgets/controls",
            "_model_module_version": "1.5.0",
            "_view_count": null,
            "_view_module_version": "1.5.0",
            "box_style": "",
            "layout": "IPY_MODEL_41fe07780d604fa195f6d359c08c52bb",
            "_model_module": "@jupyter-widgets/controls",
            "children": [
              "IPY_MODEL_f6091dc93722441fbcf6ac1ce199edbc",
              "IPY_MODEL_60563fc17fb044fc8ada3c392a765e23"
            ]
          }
        },
        "41fe07780d604fa195f6d359c08c52bb": {
          "model_module": "@jupyter-widgets/base",
          "model_name": "LayoutModel",
          "state": {
            "_view_name": "LayoutView",
            "grid_template_rows": null,
            "right": null,
            "justify_content": null,
            "_view_module": "@jupyter-widgets/base",
            "overflow": null,
            "_model_module_version": "1.2.0",
            "_view_count": null,
            "flex_flow": null,
            "width": null,
            "min_width": null,
            "border": null,
            "align_items": null,
            "bottom": null,
            "_model_module": "@jupyter-widgets/base",
            "top": null,
            "grid_column": null,
            "overflow_y": null,
            "overflow_x": null,
            "grid_auto_flow": null,
            "grid_area": null,
            "grid_template_columns": null,
            "flex": null,
            "_model_name": "LayoutModel",
            "justify_items": null,
            "grid_row": null,
            "max_height": null,
            "align_content": null,
            "visibility": null,
            "align_self": null,
            "height": null,
            "min_height": null,
            "padding": null,
            "grid_auto_rows": null,
            "grid_gap": null,
            "max_width": null,
            "order": null,
            "_view_module_version": "1.2.0",
            "grid_template_areas": null,
            "object_position": null,
            "object_fit": null,
            "grid_auto_columns": null,
            "margin": null,
            "display": null,
            "left": null
          }
        },
        "f6091dc93722441fbcf6ac1ce199edbc": {
          "model_module": "@jupyter-widgets/controls",
          "model_name": "IntProgressModel",
          "state": {
            "_view_name": "ProgressView",
            "style": "IPY_MODEL_b7e075c9bd134bbe965f706b3fb9e3c1",
            "_dom_classes": [],
            "description": "",
            "_model_name": "IntProgressModel",
            "bar_style": "success",
            "max": 1,
            "_view_module": "@jupyter-widgets/controls",
            "_model_module_version": "1.5.0",
            "value": 1,
            "_view_count": null,
            "_view_module_version": "1.5.0",
            "orientation": "horizontal",
            "min": 0,
            "description_tooltip": null,
            "_model_module": "@jupyter-widgets/controls",
            "layout": "IPY_MODEL_349dd9c5b17c4633b37160d32c58057b"
          }
        },
        "60563fc17fb044fc8ada3c392a765e23": {
          "model_module": "@jupyter-widgets/controls",
          "model_name": "HTMLModel",
          "state": {
            "_view_name": "HTMLView",
            "style": "IPY_MODEL_5c3160c0d19148548dce0bcbf69e0992",
            "_dom_classes": [],
            "description": "",
            "_model_name": "HTMLModel",
            "placeholder": "​",
            "_view_module": "@jupyter-widgets/controls",
            "_model_module_version": "1.5.0",
            "value": "8192it [00:00, 12267.98it/s]",
            "_view_count": null,
            "_view_module_version": "1.5.0",
            "description_tooltip": null,
            "_model_module": "@jupyter-widgets/controls",
            "layout": "IPY_MODEL_249845f4e9b04020be8b430909967495"
          }
        },
        "b7e075c9bd134bbe965f706b3fb9e3c1": {
          "model_module": "@jupyter-widgets/controls",
          "model_name": "ProgressStyleModel",
          "state": {
            "_view_name": "StyleView",
            "_model_name": "ProgressStyleModel",
            "description_width": "",
            "_view_module": "@jupyter-widgets/base",
            "_model_module_version": "1.5.0",
            "_view_count": null,
            "_view_module_version": "1.2.0",
            "bar_color": null,
            "_model_module": "@jupyter-widgets/controls"
          }
        },
        "349dd9c5b17c4633b37160d32c58057b": {
          "model_module": "@jupyter-widgets/base",
          "model_name": "LayoutModel",
          "state": {
            "_view_name": "LayoutView",
            "grid_template_rows": null,
            "right": null,
            "justify_content": null,
            "_view_module": "@jupyter-widgets/base",
            "overflow": null,
            "_model_module_version": "1.2.0",
            "_view_count": null,
            "flex_flow": null,
            "width": null,
            "min_width": null,
            "border": null,
            "align_items": null,
            "bottom": null,
            "_model_module": "@jupyter-widgets/base",
            "top": null,
            "grid_column": null,
            "overflow_y": null,
            "overflow_x": null,
            "grid_auto_flow": null,
            "grid_area": null,
            "grid_template_columns": null,
            "flex": null,
            "_model_name": "LayoutModel",
            "justify_items": null,
            "grid_row": null,
            "max_height": null,
            "align_content": null,
            "visibility": null,
            "align_self": null,
            "height": null,
            "min_height": null,
            "padding": null,
            "grid_auto_rows": null,
            "grid_gap": null,
            "max_width": null,
            "order": null,
            "_view_module_version": "1.2.0",
            "grid_template_areas": null,
            "object_position": null,
            "object_fit": null,
            "grid_auto_columns": null,
            "margin": null,
            "display": null,
            "left": null
          }
        },
        "5c3160c0d19148548dce0bcbf69e0992": {
          "model_module": "@jupyter-widgets/controls",
          "model_name": "DescriptionStyleModel",
          "state": {
            "_view_name": "StyleView",
            "_model_name": "DescriptionStyleModel",
            "description_width": "",
            "_view_module": "@jupyter-widgets/base",
            "_model_module_version": "1.5.0",
            "_view_count": null,
            "_view_module_version": "1.2.0",
            "_model_module": "@jupyter-widgets/controls"
          }
        },
        "249845f4e9b04020be8b430909967495": {
          "model_module": "@jupyter-widgets/base",
          "model_name": "LayoutModel",
          "state": {
            "_view_name": "LayoutView",
            "grid_template_rows": null,
            "right": null,
            "justify_content": null,
            "_view_module": "@jupyter-widgets/base",
            "overflow": null,
            "_model_module_version": "1.2.0",
            "_view_count": null,
            "flex_flow": null,
            "width": null,
            "min_width": null,
            "border": null,
            "align_items": null,
            "bottom": null,
            "_model_module": "@jupyter-widgets/base",
            "top": null,
            "grid_column": null,
            "overflow_y": null,
            "overflow_x": null,
            "grid_auto_flow": null,
            "grid_area": null,
            "grid_template_columns": null,
            "flex": null,
            "_model_name": "LayoutModel",
            "justify_items": null,
            "grid_row": null,
            "max_height": null,
            "align_content": null,
            "visibility": null,
            "align_self": null,
            "height": null,
            "min_height": null,
            "padding": null,
            "grid_auto_rows": null,
            "grid_gap": null,
            "max_width": null,
            "order": null,
            "_view_module_version": "1.2.0",
            "grid_template_areas": null,
            "object_position": null,
            "object_fit": null,
            "grid_auto_columns": null,
            "margin": null,
            "display": null,
            "left": null
          }
        }
      }
    }
  },
  "cells": [
    {
      "cell_type": "markdown",
      "metadata": {
        "id": "view-in-github",
        "colab_type": "text"
      },
      "source": [
        "<a href=\"https://colab.research.google.com/github/jedhouas/Advanced-Deep-Learning/blob/master/TP4_active_learning.ipynb\" target=\"_parent\"><img src=\"https://colab.research.google.com/assets/colab-badge.svg\" alt=\"Open In Colab\"/></a>"
      ]
    },
    {
      "cell_type": "markdown",
      "metadata": {
        "id": "_fBRtjnhBgEN",
        "colab_type": "text"
      },
      "source": [
        "# Active Learning Practical"
      ]
    },
    {
      "cell_type": "markdown",
      "metadata": {
        "id": "arRenWyQBgEX",
        "colab_type": "text"
      },
      "source": [
        "Active Learning is generally useful in a specific case of small data: when unlabelled data is plentiful, but labelling it is costly. Think for example that each example must be analysed by an expert for labelling it. Expert time is costly, so we would like to be able to train a successful classifier while labelling as few examples as possible.\n",
        "\n",
        "Active Learning is an approach to answer this problem. The general principle is the following: we first randomly ask the expert to label a small random subset of the training data, and train our classifier on it. Once this first step is done, we can analyse the behaviour of our trained model on the yet unlabelled data, to deduce which additional examples would be worth labelling to improve the quality of the model as quickly as possible. We then retrain the model on the new larger labelled dataset and iterate this process, labelling more and more examples, until we reach a satisfying performance. And hopefully reaching it while only labelling a small fraction of the whole available dataset.\n",
        "\n",
        "The main question in Active Learning is thus the following: How should we choose the next batch of examples to be labelled?\n",
        "\n",
        "There are different strategies for this, that you will compare in this practical."
      ]
    },
    {
      "cell_type": "markdown",
      "metadata": {
        "id": "E5beat3-BgEe",
        "colab_type": "text"
      },
      "source": [
        "### Example setup\n",
        "\n",
        "We will emulate an active learning situation using the MNIST dataset, starting by pretending we don't have the labels. The \"ask an expert to label the example\" step will thus be simply picking the label from the dataset.\n",
        "\n",
        "You'll have to provide a neural network architecture and the implementation of various active learning strategies, with the goal of comparing them. Keep in mind that the start of the training will be on very small datasets when designing your architectures."
      ]
    },
    {
      "cell_type": "code",
      "metadata": {
        "id": "d8870QiSBgEj",
        "colab_type": "code",
        "colab": {}
      },
      "source": [
        "import torch\n",
        "import torch.nn as nn\n",
        "import torch.nn.functional as F\n",
        "import torchvision\n",
        "import torchvision.transforms as transforms\n",
        "from torch.utils.data import DataLoader, random_split, TensorDataset\n",
        "import numpy as np\n",
        "\n",
        "import random\n",
        "\n",
        "import matplotlib.pyplot as plt\n",
        "\n",
        "%matplotlib inline"
      ],
      "execution_count": 0,
      "outputs": []
    },
    {
      "cell_type": "code",
      "metadata": {
        "id": "jIZwIHMRZzjb",
        "colab_type": "code",
        "colab": {}
      },
      "source": [
        "if torch.cuda.is_available :\n",
        "  device=torch.device('cuda')\n",
        "else:\n",
        "  device=torch.device('cpu')"
      ],
      "execution_count": 0,
      "outputs": []
    },
    {
      "cell_type": "code",
      "metadata": {
        "id": "DQcgp5hiBgEz",
        "colab_type": "code",
        "outputId": "b3f969a7-7988-4c39-828b-89a74da96957",
        "colab": {
          "base_uri": "https://localhost:8080/",
          "height": 388,
          "referenced_widgets": [
            "cacc5957b4e84032a2fe227ee12d6023",
            "f7f9fdff625f4f95be499a392e042391",
            "556e28784a9a419681eb45b25607342e",
            "b202575e35ff43d3a8104f06e6a39fe4",
            "22378684a4094aca8c0a78abf40cf27b",
            "d7a1e75de1344b20bf29d337956a7a3f",
            "20aeb7d8d9a744d692e074e84c659321",
            "12c6530d986a4184ae33042ad5b45677",
            "d5bf20be3ea5495c84c865c588e3e003",
            "8e49e3ba737b4c74b13a1bfbca0d58ec",
            "e9aeae5ed73f4c6a98287ad90c67b634",
            "2fee5845adaa4256ac4359d8148005c4",
            "cd590bce8cdc4d94883ba6d7fcab350e",
            "f33f114fb2e84f48911fd0708717571e",
            "cb82f9c9be774fb299b47760182fbb38",
            "04e9d409c2ae4ec28cf45707eb92c39e",
            "7f4fcc768bd94513a20bde1fd6a9591f",
            "11c3bf9d6b7747b8973b3a0611fef80f",
            "bc3768e96a1843c6aa37e0758330885e",
            "7f87f3907d794607bd642a10f0c27ead",
            "022a2f8e3f3442619a7d1fe9d37a1d4e",
            "f86c4898751f4ff5987f0f054d8a3574",
            "d6ce2ab80b6f4816abd01d201555baf1",
            "4f80bcd3ae5d478d93b1c74b59f267da",
            "075b6b97ba3f4e5096358b35452a2f76",
            "41fe07780d604fa195f6d359c08c52bb",
            "f6091dc93722441fbcf6ac1ce199edbc",
            "60563fc17fb044fc8ada3c392a765e23",
            "b7e075c9bd134bbe965f706b3fb9e3c1",
            "349dd9c5b17c4633b37160d32c58057b",
            "5c3160c0d19148548dce0bcbf69e0992",
            "249845f4e9b04020be8b430909967495"
          ]
        }
      },
      "source": [
        "# Loading MNIST dataset from torchvision.dataset\n",
        "original_mnist = torchvision.datasets.MNIST(root='data/',\n",
        "                                           train=True,\n",
        "                                           transform=transforms.ToTensor(),\n",
        "                                           download=True)\n"
      ],
      "execution_count": 0,
      "outputs": [
        {
          "output_type": "stream",
          "text": [
            "Downloading http://yann.lecun.com/exdb/mnist/train-images-idx3-ubyte.gz to data/MNIST/raw/train-images-idx3-ubyte.gz\n"
          ],
          "name": "stdout"
        },
        {
          "output_type": "display_data",
          "data": {
            "application/vnd.jupyter.widget-view+json": {
              "model_id": "cacc5957b4e84032a2fe227ee12d6023",
              "version_minor": 0,
              "version_major": 2
            },
            "text/plain": [
              "HBox(children=(IntProgress(value=1, bar_style='info', max=1), HTML(value='')))"
            ]
          },
          "metadata": {
            "tags": []
          }
        },
        {
          "output_type": "stream",
          "text": [
            "\n",
            "Extracting data/MNIST/raw/train-images-idx3-ubyte.gz to data/MNIST/raw\n",
            "Downloading http://yann.lecun.com/exdb/mnist/train-labels-idx1-ubyte.gz to data/MNIST/raw/train-labels-idx1-ubyte.gz\n"
          ],
          "name": "stdout"
        },
        {
          "output_type": "display_data",
          "data": {
            "application/vnd.jupyter.widget-view+json": {
              "model_id": "d5bf20be3ea5495c84c865c588e3e003",
              "version_minor": 0,
              "version_major": 2
            },
            "text/plain": [
              "HBox(children=(IntProgress(value=1, bar_style='info', max=1), HTML(value='')))"
            ]
          },
          "metadata": {
            "tags": []
          }
        },
        {
          "output_type": "stream",
          "text": [
            "\n",
            "Extracting data/MNIST/raw/train-labels-idx1-ubyte.gz to data/MNIST/raw\n",
            "Downloading http://yann.lecun.com/exdb/mnist/t10k-images-idx3-ubyte.gz to data/MNIST/raw/t10k-images-idx3-ubyte.gz\n"
          ],
          "name": "stdout"
        },
        {
          "output_type": "display_data",
          "data": {
            "application/vnd.jupyter.widget-view+json": {
              "model_id": "7f4fcc768bd94513a20bde1fd6a9591f",
              "version_minor": 0,
              "version_major": 2
            },
            "text/plain": [
              "HBox(children=(IntProgress(value=1, bar_style='info', max=1), HTML(value='')))"
            ]
          },
          "metadata": {
            "tags": []
          }
        },
        {
          "output_type": "stream",
          "text": [
            "\n",
            "Extracting data/MNIST/raw/t10k-images-idx3-ubyte.gz to data/MNIST/raw\n",
            "Downloading http://yann.lecun.com/exdb/mnist/t10k-labels-idx1-ubyte.gz to data/MNIST/raw/t10k-labels-idx1-ubyte.gz\n"
          ],
          "name": "stdout"
        },
        {
          "output_type": "display_data",
          "data": {
            "application/vnd.jupyter.widget-view+json": {
              "model_id": "075b6b97ba3f4e5096358b35452a2f76",
              "version_minor": 0,
              "version_major": 2
            },
            "text/plain": [
              "HBox(children=(IntProgress(value=1, bar_style='info', max=1), HTML(value='')))"
            ]
          },
          "metadata": {
            "tags": []
          }
        },
        {
          "output_type": "stream",
          "text": [
            "\n",
            "Extracting data/MNIST/raw/t10k-labels-idx1-ubyte.gz to data/MNIST/raw\n",
            "Processing...\n",
            "Done!\n"
          ],
          "name": "stdout"
        }
      ]
    },
    {
      "cell_type": "code",
      "metadata": {
        "id": "t99zCMgEBgE6",
        "colab_type": "code",
        "colab": {}
      },
      "source": [
        "# This function creates an unlabelled dataset based on the MNIST images\n",
        "#\n",
        "# All examples that are not yet labelled have a label set to -1\n",
        "def unlabeled_dataset():\n",
        "    return TensorDataset(\n",
        "        original_mnist.data[5000:].float() * 2.0 / 255.0 -1.0,\n",
        "        torch.zeros_like(original_mnist.targets[5000:]) - 1\n",
        "    )\n",
        "\n",
        "# This function labels the requested examples on an unlabelled dataset\n",
        "def call_expert(dataset, indices):\n",
        "    for i in indices:\n",
        "        dataset.tensors[1][i] = original_mnist.targets[5000+i]\n",
        "\n",
        "# Keep 5000 examples as a validation\n",
        "mnist_validation = TensorDataset(\n",
        "    original_mnist.data[:5000].float() * 2.0 / 255.0 -1.0,\n",
        "    original_mnist.targets[:5000]\n",
        ")"
      ],
      "execution_count": 0,
      "outputs": []
    },
    {
      "cell_type": "markdown",
      "metadata": {
        "id": "uWh1U-z-BgFD",
        "colab_type": "text"
      },
      "source": [
        "You can here define your model that will be used for the Active learning process:"
      ]
    },
    {
      "cell_type": "code",
      "metadata": {
        "id": "lyJBllHtBgFF",
        "colab_type": "code",
        "colab": {}
      },
      "source": [
        "class Model(nn.Module):\n",
        "    def __init__(self):\n",
        "      super(Model, self).__init__()\n",
        "\n",
        "      self.conv1 = nn.Sequential(\n",
        "          nn.Conv2d(1, 128, 5, padding=1,stride=2),nn.ReLU(),nn.BatchNorm2d(128),\n",
        "          nn.Conv2d(128, 64, 3, padding=1),nn.ReLU(),nn.BatchNorm2d(64),\n",
        "          nn.MaxPool2d(2, 2),\n",
        "          nn.Conv2d(64, 64, 3, padding=1),nn.ReLU(),nn.BatchNorm2d(64),\n",
        "          nn.Conv2d(64, 32, 3, padding=1),nn.ReLU(),nn.BatchNorm2d(32),\n",
        "          nn.MaxPool2d(2, 2)\n",
        "      )\n",
        "      \n",
        "      self.lin = nn.Sequential(\n",
        "          nn.Linear(288, 10)\n",
        "      )\n",
        "\n",
        "    def forward(self, x):\n",
        "      x=x.unsqueeze(1)\n",
        "      x = self.conv1(x)\n",
        "      x = x.view(x.size(0), -1)\n",
        "      return self.lin(x)"
      ],
      "execution_count": 0,
      "outputs": []
    },
    {
      "cell_type": "markdown",
      "metadata": {
        "id": "mxvK2KYhBgFU",
        "colab_type": "text"
      },
      "source": [
        "And here are the learning hyper-parameters, as for the previous practicals you may need to tinker with them:"
      ]
    },
    {
      "cell_type": "code",
      "metadata": {
        "id": "H_Qofa0_BgFf",
        "colab_type": "code",
        "colab": {}
      },
      "source": [
        "# number of times the expert will be called to label a batch of examples\n",
        "num_active_runs = 20\n",
        "\n",
        "# number of training iterations between each expert call\n",
        "# the number of epochs is thus num_iter * batch_size / len(dataset)\n",
        "num_iter = 100\n",
        "batch_size = 64\n",
        "\n",
        "\n",
        "criterion = nn.CrossEntropyLoss()\n",
        "\n",
        "learning_rate = 0.01"
      ],
      "execution_count": 0,
      "outputs": []
    },
    {
      "cell_type": "markdown",
      "metadata": {
        "id": "hC_rETXvBgFr",
        "colab_type": "text"
      },
      "source": [
        "Now is the place where you define the strategy to choose the next examples to label. A strategy is a function taking as input your model and the dataset, and returning a list of examples to label.\n",
        "\n",
        "You can create several functions to test different strategies."
      ]
    },
    {
      "cell_type": "markdown",
      "metadata": {
        "id": "lLml4MyJmmxj",
        "colab_type": "text"
      },
      "source": [
        "## Please see comments in the below code"
      ]
    },
    {
      "cell_type": "code",
      "metadata": {
        "id": "1a5yAcmSBgFv",
        "colab_type": "code",
        "colab": {}
      },
      "source": [
        "# We have modified the random strategy in order to select randomly from the unlabelled dataset only and not the whole dataset.\n",
        "# We have also added the option to compared adding 20 and adding 80 labels to see the impact of the number of added labels.\n",
        "\n",
        "def random_strategy(model, dataset, nb_new_examp):\n",
        "    # label 20 new examples at random\n",
        "    unlabelled = dataset.tensors[1] < 0\n",
        "    unlabelled_idx = np.argwhere(unlabelled == True).squeeze(0)\n",
        "    return torch.tensor(np.random.choice(unlabelled_idx, nb_new_examp, replace=False))\n",
        "\n",
        "\n",
        "# Entropy selection strategy will add at each iteration labels to the unlebbeled samples where the prediction has the biggest\n",
        "# entropy, ie where predictions are most uncertain. The number of added labels in an input of the function.\n",
        "\n",
        "def entropy_selection(model, dataset, nb_new_examp):\n",
        "    # implement your strategies as new functions here\n",
        "    unlabelled = dataset.tensors[1] < 0\n",
        "    unlabelledDataSet = TensorDataset(*list(t[unlabelled] for t in dataset.tensors))\n",
        "    loader = DataLoader(unlabelledDataSet, batch_size=batch_size, shuffle=False)\n",
        "    prediction =[]\n",
        "    with torch.no_grad():\n",
        "        for (data, targets) in loader:\n",
        "            pred = F.softmax(model(data.to(device)))\n",
        "            prediction = prediction + pred.tolist()\n",
        "    prediction_arr = np.array(prediction)\n",
        "    e = (-prediction_arr * np.log2(prediction_arr)).sum(axis=1)\n",
        "    selection = (np.argsort(e)[::-1])[:nb_new_examp]\n",
        "    return selection\n",
        "\n",
        "# Margin selection strategy will add at each iteration labels to the unlebbeled samples where the difference between the two\n",
        "# hihgest classes in terms of probabilitiy is the smallest, which reflects that we are highly uncertain in their predictoion.\n",
        "# This function also takes the number of added labels as input.\n",
        "\n",
        "def margin_selection(model, dataset, nb_new_examp):\n",
        "  unlabelled = dataset.tensors[1] < 0\n",
        "  unlabelledDataSet = TensorDataset(*list(t[unlabelled] for t in dataset.tensors))\n",
        "  loader = DataLoader(unlabelledDataSet, batch_size=batch_size, shuffle=False)\n",
        "  prediction =[]\n",
        "  with torch.no_grad():\n",
        "      for (data, targets) in loader:\n",
        "          pred = F.softmax(model(data.to(device)))\n",
        "          prediction = prediction + pred.tolist()\n",
        "  prediction_arr = np.array(prediction)\n",
        "  rev = np.sort(prediction_arr, axis=1)[:, ::-1]\n",
        "  values = rev[:, 0] - rev[:, 1]\n",
        "  selection = np.argsort(values)[:nb_new_examp]\n",
        "  return selection\n"
      ],
      "execution_count": 0,
      "outputs": []
    },
    {
      "cell_type": "markdown",
      "metadata": {
        "id": "MibJP1qMBgF5",
        "colab_type": "text"
      },
      "source": [
        "This function is the main training loop, the only part you should need to modify is the initialization of the optimizer (noted by the `# OPTIMIZER` comment).\n",
        "\n",
        "Don't forget to reload this cell whenever you change the hyper-parameters."
      ]
    },
    {
      "cell_type": "code",
      "metadata": {
        "id": "R1sJnSMEBgF6",
        "colab_type": "code",
        "colab": {}
      },
      "source": [
        "# returns a tensor of values:\n",
        "# - output[:,0] are the number of labeled examples\n",
        "# - output[:,1] are the associated accuracies\n",
        "# - output[:,2] are the associated losses\n",
        "def active_training(strategy, dataset=None, initial_labeling=20, nb_new_examp = 20):\n",
        "    if dataset is None:\n",
        "        dataset = unlabeled_dataset()\n",
        "        call_expert(dataset, torch.randint(0, len(dataset), (initial_labeling,)))\n",
        "    \n",
        "    def train_model(model, optimizer, loader, epochs):\n",
        "        for _ in range(epochs):\n",
        "            for (data, targets) in loader:\n",
        "              data, targets = data.to(device), targets.long().to(device)\n",
        "              model.zero_grad()\n",
        "              prediction = model(data)\n",
        "              loss = criterion(prediction, targets)\n",
        "              loss.backward()\n",
        "              optimizer.step()\n",
        "    \n",
        "    def validation_perf(model, dataset):\n",
        "        loader = DataLoader(dataset, batch_size=batch_size, shuffle=False)\n",
        "        total_accuracy = 0.0\n",
        "        total_loss = 0.0\n",
        "        with torch.no_grad():\n",
        "            for (data, targets) in loader:\n",
        "                prediction = model(data.to(device))\n",
        "                total_loss += criterion(prediction.cpu(), targets).item() * data.size(0)\n",
        "                _, number_predicted = torch.max(prediction.data, 1)\n",
        "                total_accuracy += (number_predicted.cpu() == targets).sum()\n",
        "        return (total_accuracy / len(dataset), total_loss / len(dataset))\n",
        "    \n",
        "    nb_epochs = int(500/nb_new_examp)\n",
        "    performances = torch.zeros(nb_epochs+1, 3)\n",
        "    for i in range(nb_epochs+1):\n",
        "        # filter the dataset to only keep labelled examples\n",
        "        labelled_idx = dataset.tensors[1] >= 0\n",
        "        filtered_dataset = TensorDataset(*list(t[labelled_idx] for t in dataset.tensors))\n",
        "        loader = DataLoader(filtered_dataset, batch_size=batch_size, shuffle=True)\n",
        "        # create a new model to train on this dataset\n",
        "        model = Model()\n",
        "        model.to(device)\n",
        "        # OPTIMIZER\n",
        "        optimizer = torch.optim.Adam(model.parameters(), lr=learning_rate)\n",
        "        train_model(model, optimizer, loader, num_iter // len(loader))\n",
        "        (valid_acc, valid_loss) = validation_perf(model, mnist_validation)\n",
        "        \n",
        "        performances[i, 0] = len(filtered_dataset)\n",
        "        performances[i, 1] = valid_acc\n",
        "        performances[i, 2] = valid_loss\n",
        "        print(\"With {} examples, valid perf (loss and accuracy) is: {} -- {}%\".format(len(filtered_dataset), valid_loss, valid_acc*100))\n",
        "        if i < nb_epochs:\n",
        "          to_label = strategy(model, dataset,nb_new_examp)\n",
        "          call_expert(dataset, to_label)\n",
        "  \n",
        "    return performances"
      ],
      "execution_count": 0,
      "outputs": []
    },
    {
      "cell_type": "markdown",
      "metadata": {
        "id": "q8JsyAVDBgF_",
        "colab_type": "text"
      },
      "source": [
        "The following cells contain code that you can use to compare your different strategies. Fill the `strategies` list with the name of the functions implementing your strategies, and run the cell to compare them."
      ]
    },
    {
      "cell_type": "code",
      "metadata": {
        "id": "CkPjlJocBgGC",
        "colab_type": "code",
        "outputId": "31a32412-f966-472d-d918-145fdba51ee7",
        "colab": {
          "base_uri": "https://localhost:8080/",
          "height": 1000
        }
      },
      "source": [
        "# a list of strategies you want to compare\n",
        "strategies = [random_strategy,entropy_selection,margin_selection]\n",
        "list_nb_new_examp = [20,80]\n",
        "# number of examples to label randomly at the start\n",
        "initial_labeling = 20\n",
        "\n",
        "performances = []\n",
        "for strat in strategies:\n",
        "  for nb_new_examp in list_nb_new_examp:\n",
        "    print(\"Training with strategy: {}_{}\".format(strat.__name__,str(nb_new_examp)))\n",
        "    perf = active_training(strat, dataset=None, initial_labeling=initial_labeling, nb_new_examp = nb_new_examp)\n",
        "    performances.append((strat.__name__+\"_\"+str(nb_new_examp), perf))\n",
        "print(\"done\")"
      ],
      "execution_count": 0,
      "outputs": [
        {
          "output_type": "stream",
          "text": [
            "Training with strategy: random_strategy_20\n",
            "With 20 examples, valid perf (loss and accuracy) is: 2.61359605178833 -- 55.040000915527344%\n",
            "With 40 examples, valid perf (loss and accuracy) is: 1.835343818473816 -- 60.46000289916992%\n",
            "With 60 examples, valid perf (loss and accuracy) is: 1.1012935423851014 -- 75.8800048828125%\n",
            "With 80 examples, valid perf (loss and accuracy) is: 0.8496147089958191 -- 78.6199951171875%\n",
            "With 100 examples, valid perf (loss and accuracy) is: 0.6240722536355257 -- 84.16000366210938%\n",
            "With 120 examples, valid perf (loss and accuracy) is: 0.45764476234801116 -- 89.02000427246094%\n",
            "With 140 examples, valid perf (loss and accuracy) is: 0.6429429033756257 -- 85.25999450683594%\n",
            "With 160 examples, valid perf (loss and accuracy) is: 0.413716462290287 -- 89.0999984741211%\n",
            "With 180 examples, valid perf (loss and accuracy) is: 0.31667670016810295 -- 91.36000061035156%\n",
            "With 200 examples, valid perf (loss and accuracy) is: 0.34460782385878264 -- 91.08000183105469%\n",
            "With 220 examples, valid perf (loss and accuracy) is: 0.3098287130132317 -- 92.0%\n",
            "With 240 examples, valid perf (loss and accuracy) is: 0.26755948499925436 -- 92.19999694824219%\n",
            "With 260 examples, valid perf (loss and accuracy) is: 0.3446408631131053 -- 91.0999984741211%\n",
            "With 280 examples, valid perf (loss and accuracy) is: 0.27299519793055954 -- 92.43999481201172%\n",
            "With 300 examples, valid perf (loss and accuracy) is: 0.27099071095734834 -- 92.86000061035156%\n",
            "With 320 examples, valid perf (loss and accuracy) is: 0.268391715182364 -- 92.65999603271484%\n",
            "With 340 examples, valid perf (loss and accuracy) is: 0.21503385632652788 -- 93.69999694824219%\n",
            "With 360 examples, valid perf (loss and accuracy) is: 0.24495397335514427 -- 93.0999984741211%\n",
            "With 380 examples, valid perf (loss and accuracy) is: 0.25393883345127105 -- 93.83999633789062%\n",
            "With 400 examples, valid perf (loss and accuracy) is: 0.24018147950097918 -- 93.26000213623047%\n",
            "With 420 examples, valid perf (loss and accuracy) is: 0.23038800517693162 -- 93.76000213623047%\n",
            "With 440 examples, valid perf (loss and accuracy) is: 0.19257649871567264 -- 94.45999908447266%\n",
            "With 460 examples, valid perf (loss and accuracy) is: 0.18184709040820599 -- 94.55999755859375%\n",
            "With 480 examples, valid perf (loss and accuracy) is: 0.194305243717134 -- 94.8800048828125%\n",
            "With 500 examples, valid perf (loss and accuracy) is: 0.18057172734551133 -- 94.76000213623047%\n",
            "With 520 examples, valid perf (loss and accuracy) is: 0.2116817965745926 -- 93.81999969482422%\n",
            "Training with strategy: random_strategy_80\n",
            "With 20 examples, valid perf (loss and accuracy) is: 3.741094066619873 -- 46.7599983215332%\n",
            "With 100 examples, valid perf (loss and accuracy) is: 0.8890247366905213 -- 79.45999908447266%\n",
            "With 180 examples, valid perf (loss and accuracy) is: 0.42609338746070863 -- 88.45999908447266%\n",
            "With 260 examples, valid perf (loss and accuracy) is: 0.27745476326532664 -- 92.47999572753906%\n",
            "With 340 examples, valid perf (loss and accuracy) is: 0.22036813284810633 -- 93.76000213623047%\n",
            "With 420 examples, valid perf (loss and accuracy) is: 0.20313778095692397 -- 94.27999877929688%\n",
            "With 500 examples, valid perf (loss and accuracy) is: 0.18297031377851963 -- 95.0%\n",
            "Training with strategy: entropy_selection_20\n",
            "With 20 examples, valid perf (loss and accuracy) is: 3.84812412109375 -- 47.44000244140625%\n"
          ],
          "name": "stdout"
        },
        {
          "output_type": "stream",
          "text": [
            "/usr/local/lib/python3.6/dist-packages/ipykernel_launcher.py:17: UserWarning: Implicit dimension choice for softmax has been deprecated. Change the call to include dim=X as an argument.\n"
          ],
          "name": "stderr"
        },
        {
          "output_type": "stream",
          "text": [
            "With 40 examples, valid perf (loss and accuracy) is: 2.9466750968933106 -- 53.46000289916992%\n",
            "With 60 examples, valid perf (loss and accuracy) is: 1.5473784351348876 -- 66.55999755859375%\n",
            "With 80 examples, valid perf (loss and accuracy) is: 0.6302794242858887 -- 82.22000122070312%\n",
            "With 100 examples, valid perf (loss and accuracy) is: 0.6090453327178955 -- 82.9800033569336%\n",
            "With 120 examples, valid perf (loss and accuracy) is: 0.5815161129951477 -- 84.69999694824219%\n",
            "With 140 examples, valid perf (loss and accuracy) is: 0.5345922622680664 -- 86.22000122070312%\n",
            "With 159 examples, valid perf (loss and accuracy) is: 0.43187158977985385 -- 88.80000305175781%\n",
            "With 179 examples, valid perf (loss and accuracy) is: 0.41097072520256045 -- 89.4800033569336%\n",
            "With 199 examples, valid perf (loss and accuracy) is: 0.4039347834348679 -- 90.86000061035156%\n",
            "With 219 examples, valid perf (loss and accuracy) is: 0.3448693210303783 -- 91.27999877929688%\n",
            "With 239 examples, valid perf (loss and accuracy) is: 0.2907213902145624 -- 92.0%\n",
            "With 258 examples, valid perf (loss and accuracy) is: 0.37771652250289917 -- 90.24000549316406%\n",
            "With 278 examples, valid perf (loss and accuracy) is: 0.3029521127402782 -- 92.33999633789062%\n",
            "With 298 examples, valid perf (loss and accuracy) is: 0.22911503425091506 -- 93.45999908447266%\n",
            "With 318 examples, valid perf (loss and accuracy) is: 0.30221194105148314 -- 92.27999877929688%\n",
            "With 338 examples, valid perf (loss and accuracy) is: 0.21807889366522432 -- 94.0199966430664%\n",
            "With 358 examples, valid perf (loss and accuracy) is: 0.28558505329191686 -- 92.86000061035156%\n",
            "With 377 examples, valid perf (loss and accuracy) is: 0.24284957377016544 -- 93.77999877929688%\n",
            "With 396 examples, valid perf (loss and accuracy) is: 0.38655398209095 -- 90.73999786376953%\n",
            "With 415 examples, valid perf (loss and accuracy) is: 0.24830235178992152 -- 93.44000244140625%\n",
            "With 435 examples, valid perf (loss and accuracy) is: 0.21830150387883188 -- 93.55999755859375%\n",
            "With 455 examples, valid perf (loss and accuracy) is: 0.260319931858778 -- 92.83999633789062%\n",
            "With 475 examples, valid perf (loss and accuracy) is: 0.23427033800184727 -- 93.68000030517578%\n",
            "With 495 examples, valid perf (loss and accuracy) is: 0.1919563332900405 -- 94.77999877929688%\n",
            "With 515 examples, valid perf (loss and accuracy) is: 0.2372536522388458 -- 93.76000213623047%\n",
            "Training with strategy: entropy_selection_80\n",
            "With 20 examples, valid perf (loss and accuracy) is: 2.5084605655670167 -- 48.400001525878906%\n",
            "With 100 examples, valid perf (loss and accuracy) is: 0.9757626081466675 -- 77.94000244140625%\n",
            "With 180 examples, valid perf (loss and accuracy) is: 0.4581478839874268 -- 88.94000244140625%\n",
            "With 260 examples, valid perf (loss and accuracy) is: 0.3861833578586578 -- 89.18000030517578%\n",
            "With 340 examples, valid perf (loss and accuracy) is: 0.2384059395223856 -- 93.5999984741211%\n",
            "With 420 examples, valid perf (loss and accuracy) is: 0.2099789113201201 -- 94.66000366210938%\n",
            "With 499 examples, valid perf (loss and accuracy) is: 0.1823947558330372 -- 95.08000183105469%\n",
            "Training with strategy: margin_selection_20\n",
            "With 20 examples, valid perf (loss and accuracy) is: 4.131223483276367 -- 49.0%\n"
          ],
          "name": "stdout"
        },
        {
          "output_type": "stream",
          "text": [
            "/usr/local/lib/python3.6/dist-packages/ipykernel_launcher.py:32: UserWarning: Implicit dimension choice for softmax has been deprecated. Change the call to include dim=X as an argument.\n"
          ],
          "name": "stderr"
        },
        {
          "output_type": "stream",
          "text": [
            "With 40 examples, valid perf (loss and accuracy) is: 1.7325681053161621 -- 68.66000366210938%\n",
            "With 60 examples, valid perf (loss and accuracy) is: 0.952335675239563 -- 77.54000091552734%\n",
            "With 80 examples, valid perf (loss and accuracy) is: 0.7591902766227722 -- 81.12000274658203%\n",
            "With 100 examples, valid perf (loss and accuracy) is: 0.6917615578532219 -- 82.0999984741211%\n",
            "With 120 examples, valid perf (loss and accuracy) is: 0.4324185908079147 -- 88.34000396728516%\n",
            "With 140 examples, valid perf (loss and accuracy) is: 0.4070134404912591 -- 89.24000549316406%\n",
            "With 160 examples, valid perf (loss and accuracy) is: 0.3438652633547783 -- 91.0999984741211%\n",
            "With 180 examples, valid perf (loss and accuracy) is: 0.298984805957973 -- 91.54000091552734%\n",
            "With 200 examples, valid perf (loss and accuracy) is: 0.2948331019461155 -- 92.15999603271484%\n",
            "With 220 examples, valid perf (loss and accuracy) is: 0.30628769874572753 -- 92.13999938964844%\n",
            "With 240 examples, valid perf (loss and accuracy) is: 0.29874962923526766 -- 91.75999450683594%\n",
            "With 260 examples, valid perf (loss and accuracy) is: 0.2813377864837647 -- 92.33999633789062%\n",
            "With 280 examples, valid perf (loss and accuracy) is: 0.30332895173579455 -- 92.19999694824219%\n",
            "With 300 examples, valid perf (loss and accuracy) is: 0.24292612649053336 -- 93.44000244140625%\n",
            "With 320 examples, valid perf (loss and accuracy) is: 0.2833432549059391 -- 92.65999603271484%\n",
            "With 339 examples, valid perf (loss and accuracy) is: 0.2742388960123062 -- 92.5%\n",
            "With 359 examples, valid perf (loss and accuracy) is: 0.24760200276523828 -- 92.94000244140625%\n",
            "With 378 examples, valid perf (loss and accuracy) is: 0.20826411326527597 -- 93.86000061035156%\n",
            "With 398 examples, valid perf (loss and accuracy) is: 0.1934380526781082 -- 94.31999969482422%\n",
            "With 417 examples, valid perf (loss and accuracy) is: 0.20934638935923577 -- 94.44000244140625%\n",
            "With 436 examples, valid perf (loss and accuracy) is: 0.19341063226750121 -- 94.66000366210938%\n",
            "With 456 examples, valid perf (loss and accuracy) is: 0.32786731095314026 -- 90.72000122070312%\n",
            "With 476 examples, valid perf (loss and accuracy) is: 0.17334097753725947 -- 95.06000518798828%\n",
            "With 495 examples, valid perf (loss and accuracy) is: 0.18099152701199056 -- 95.16000366210938%\n",
            "With 515 examples, valid perf (loss and accuracy) is: 0.23693663369268178 -- 93.81999969482422%\n",
            "Training with strategy: margin_selection_80\n",
            "With 20 examples, valid perf (loss and accuracy) is: 2.6020948634147643 -- 51.18000030517578%\n",
            "With 100 examples, valid perf (loss and accuracy) is: 0.8487569738388061 -- 79.36000061035156%\n",
            "With 180 examples, valid perf (loss and accuracy) is: 0.39534298259429634 -- 90.27999877929688%\n",
            "With 260 examples, valid perf (loss and accuracy) is: 0.2543784515410662 -- 93.5%\n",
            "With 339 examples, valid perf (loss and accuracy) is: 0.23952815393730997 -- 93.5199966430664%\n",
            "With 418 examples, valid perf (loss and accuracy) is: 0.20250557103212924 -- 94.81999969482422%\n",
            "With 497 examples, valid perf (loss and accuracy) is: 0.16458378154337405 -- 95.62000274658203%\n",
            "done\n"
          ],
          "name": "stdout"
        }
      ]
    },
    {
      "cell_type": "code",
      "metadata": {
        "id": "tzgTEzTGBgGJ",
        "colab_type": "code",
        "outputId": "033fad7a-ebab-48ae-c392-e97688edc3af",
        "colab": {
          "base_uri": "https://localhost:8080/",
          "height": 533
        }
      },
      "source": [
        "plt.figure(figsize=(12,8))\n",
        "plt.title(\"Compared validation accuracies\")\n",
        "plt.xlabel(\"Number of labeled examples\")\n",
        "plt.ylabel(\"Accuracy\")\n",
        "for (name, perf) in performances:\n",
        "    plt.plot(perf[:,0], perf[:,1], label=name)\n",
        "plt.legend(loc='lower right')\n",
        "plt.show()"
      ],
      "execution_count": 0,
      "outputs": [
        {
          "output_type": "display_data",
          "data": {
            "image/png": "[encoded data removed]",
            "text/plain": [
              "<Figure size 864x576 with 1 Axes>"
            ]
          },
          "metadata": {
            "tags": []
          }
        }
      ]
    },
    {
      "cell_type": "code",
      "metadata": {
        "id": "LWdcybAOBgGU",
        "colab_type": "code",
        "outputId": "2dd9dc86-0c71-4553-bb67-32782ac7c99b",
        "colab": {
          "base_uri": "https://localhost:8080/",
          "height": 533
        }
      },
      "source": [
        "plt.figure(figsize=(12,8))\n",
        "plt.title(\"Compared validation losses\")\n",
        "plt.xlabel(\"Number of labeled examples\")\n",
        "plt.ylabel(\"Loss\")\n",
        "for (name, perf) in performances:\n",
        "    plt.plot(perf[:,0], perf[:,2], label=name)\n",
        "plt.legend(loc='upper right')\n",
        "plt.show()"
      ],
      "execution_count": 0,
      "outputs": [
        {
          "output_type": "display_data",
          "data": {
            "image/png": "[encoded data removed]",
            "text/plain": [
              "<Figure size 864x576 with 1 Axes>"
            ]
          },
          "metadata": {
            "tags": []
          }
        }
      ]
    },
    {
      "cell_type": "markdown",
      "metadata": {
        "id": "oAyKJ8A4pNfv",
        "colab_type": "text"
      },
      "source": [
        "### Results commentary:\n",
        "\n",
        "First we need to pay attention to the fact that the best strategy will depend greatly on the model and the prediction problem we are solving.\n",
        "The results we get are pretty similar between the different strategies, We are able to reach 95% validation accuracy in less than 500 samples. This might be due to the simplistic problem in hand and to the predictive capacity of the model we implemented. However Margin selection strategy perfroms better overall: we can see that when we added fewer samples (20), margin selection highly outperformed the other strategies in the beginning. It also converged to better overall accuracy of 94.8% under 400 samples when we added more samples (80)."
      ]
    },
    {
      "cell_type": "markdown",
      "metadata": {
        "id": "KcdpihLuBgGZ",
        "colab_type": "text"
      },
      "source": [
        "The provided code only implement the \"random\" strategy, which chooses examples at random to label them. Your task is to compare it to other, more guided strategies. For example:\n",
        "\n",
        "- a strategy that would label in priority the examples for which the classifier is the most uncertain, as measured by the entropy of its output\n",
        "- a strategy that would label in priority the examples that appear to be near the frontier between the classes: examples for which the highest and second-highest prediction values of the classifier are close to each other.\n",
        "\n",
        "You can also try to use other relevant decision criterion for choosing which examples to label, and implement them as new strategies. It is also possible to combine strategies together, in order to combine the strong points of each of them."
      ]
    },
    {
      "cell_type": "markdown",
      "metadata": {
        "id": "lr1aAs-PBgGb",
        "colab_type": "text"
      },
      "source": [
        "**Some advice:**\n",
        "\n",
        "Keep in mind that your goal is to reach the best possible validation accuracy with as little labelled training examples as possible. As such, don't forget to try and change the number of initial examples for labelling, as well as the number of examples your strategy will request for labelling at each round.\n",
        "\n",
        "Also keep in mind that you network will be trained on possibly very small datasets (think of only a few hundred of examples), while the validation set contains 5000 examples. Be careful of the risks of over-fitting, adjust your network structure and the training time (`num_iter`) appropriately.\n",
        "\n",
        "As a baseline, you should be able to reach at least 90% of validation accuracy with less than 500 labelled examples."
      ]
    },
    {
      "cell_type": "markdown",
      "metadata": {
        "id": "O9PRCwFyBgGc",
        "colab_type": "text"
      },
      "source": [
        "**When you are done, you're asked to upload this notebook with your model, the different strategies your compared with the graphs generated by the previous code. Your strategies functions should be commented to explain what each strategy does, and which one is your best strategy.**"
      ]
    }
  ]
}