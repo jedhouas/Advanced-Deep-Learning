{
  "nbformat": 4,
  "nbformat_minor": 0,
  "metadata": {
    "kernelspec": {
      "name": "python3",
      "display_name": "Python 3"
    },
    "language_info": {
      "codemirror_mode": {
        "name": "ipython",
        "version": 3
      },
      "file_extension": ".py",
      "mimetype": "text/x-python",
      "name": "python",
      "nbconvert_exporter": "python",
      "pygments_lexer": "ipython3",
      "version": "3.7.6"
    },
    "colab": {
      "name": "TP1_Ex2_Multiclass_Working.ipynb",
      "provenance": [],
      "collapsed_sections": [],
      "include_colab_link": true
    },
    "accelerator": "GPU",
    "widgets": {
      "application/vnd.jupyter.widget-state+json": {
        "a822bb9ab313438d812516aa0b85eec8": {
          "model_module": "@jupyter-widgets/controls",
          "model_name": "HBoxModel",
          "state": {
            "_view_name": "HBoxView",
            "_dom_classes": [],
            "_model_name": "HBoxModel",
            "_view_module": "@jupyter-widgets/controls",
            "_model_module_version": "1.5.0",
            "_view_count": null,
            "_view_module_version": "1.5.0",
            "box_style": "",
            "layout": "IPY_MODEL_f14b30b73bf64ba5a96b0c9d067ee1ba",
            "_model_module": "@jupyter-widgets/controls",
            "children": [
              "IPY_MODEL_0c86978b16be4dbb8e9c98d0a180b418",
              "IPY_MODEL_d2a12e38d18841b7ac2d520289e522db"
            ]
          }
        },
        "f0d6d0f477224823845c75152c264c3f": {
          "model_module": "@jupyter-widgets/controls",
          "model_name": "HBoxModel",
          "state": {
            "_view_name": "HBoxView",
            "_dom_classes": [],
            "_model_name": "HBoxModel",
            "_view_module": "@jupyter-widgets/controls",
            "_model_module_version": "1.5.0",
            "_view_count": null,
            "_view_module_version": "1.5.0",
            "box_style": "",
            "layout": "IPY_MODEL_a117144a245945509fb3c51930a4177a",
            "_model_module": "@jupyter-widgets/controls",
            "children": [
              "IPY_MODEL_b28c0f87223346669205ab315c4d90ea",
              "IPY_MODEL_a0507c24d9d247499efb7cebbeb62c07"
            ]
          }
        },
        "ed69ab40cda9452a9cf3704f16ad7863": {
          "model_module": "@jupyter-widgets/controls",
          "model_name": "HBoxModel",
          "state": {
            "_view_name": "HBoxView",
            "_dom_classes": [],
            "_model_name": "HBoxModel",
            "_view_module": "@jupyter-widgets/controls",
            "_model_module_version": "1.5.0",
            "_view_count": null,
            "_view_module_version": "1.5.0",
            "box_style": "",
            "layout": "IPY_MODEL_572a095b77ce48e79ee5693762fa5c1f",
            "_model_module": "@jupyter-widgets/controls",
            "children": [
              "IPY_MODEL_57d788af2a5a43299ebc77fee71cf7bf",
              "IPY_MODEL_9e0a3f5669b14119b2847dc60e4a5250"
            ]
          }
        },
        "45fc05436aef44dbb3b32cbf7bc9db64": {
          "model_module": "@jupyter-widgets/controls",
          "model_name": "HBoxModel",
          "state": {
            "_view_name": "HBoxView",
            "_dom_classes": [],
            "_model_name": "HBoxModel",
            "_view_module": "@jupyter-widgets/controls",
            "_model_module_version": "1.5.0",
            "_view_count": null,
            "_view_module_version": "1.5.0",
            "box_style": "",
            "layout": "IPY_MODEL_72a356f713514810994c6369a308ba1b",
            "_model_module": "@jupyter-widgets/controls",
            "children": [
              "IPY_MODEL_cc30bf9e868245dfa57480d62253a419",
              "IPY_MODEL_6ebdaba661e34027b2a05c86b85f1536"
            ]
          }
        }
      }
    }
  },
  "cells": [
    {
      "cell_type": "markdown",
      "metadata": {
        "id": "view-in-github",
        "colab_type": "text"
      },
      "source": [
        "<a href=\"https://colab.research.google.com/github/jedhouas/Advanced-Deep-Learning/blob/master/TP1_Ex2_Multiclass_Working.ipynb\" target=\"_parent\"><img src=\"https://colab.research.google.com/assets/colab-badge.svg\" alt=\"Open In Colab\"/></a>"
      ]
    },
    {
      "cell_type": "markdown",
      "metadata": {
        "id": "rmvYnP9-Ywx1",
        "colab_type": "text"
      },
      "source": [
        "## Multi-classification problem\n",
        "\n",
        "__Note:__ you might need to do\n",
        "`conda install torchvision \"pillow<7\"`\n",
        "if torchvision is not already installed on your computer, and/or for compatibility issues (the version of torchvision version supporting the last version of Pillow is not released yet)."
      ]
    },
    {
      "cell_type": "code",
      "metadata": {
        "id": "biHZbFsPYwx9",
        "colab_type": "code",
        "colab": {}
      },
      "source": [
        "import torch\n",
        "import torch.nn as nn\n",
        "import torch.nn.functional as F\n",
        "import torchvision\n",
        "import torchvision.transforms as transforms\n",
        "from torch.utils.data import DataLoader, random_split\n",
        "import numpy as np \n",
        "import matplotlib.pyplot as plt\n",
        "import imgaug as ia\n",
        "import PIL\n",
        "import copy\n",
        "%matplotlib inline"
      ],
      "execution_count": 0,
      "outputs": []
    },
    {
      "cell_type": "markdown",
      "metadata": {
        "id": "wQYLib8lYwyI",
        "colab_type": "text"
      },
      "source": [
        "### [MNIST Dataset](https://pytorch.org/docs/stable/torchvision/datasets.html#mnist)\n",
        "* Handwritten digits with 10 classes\n",
        "* the size of each image is 28x28 pixels \n",
        "* 50 000 data examples in training set, 10 000 examples in validation set, 10 000 in test set"
      ]
    },
    {
      "cell_type": "code",
      "metadata": {
        "id": "KbH_51vUOFsa",
        "colab_type": "code",
        "outputId": "238df524-742e-49e5-a6c1-edb9ee0480c2",
        "colab": {
          "base_uri": "https://localhost:8080/",
          "height": 269,
          "referenced_widgets": [
            "a822bb9ab313438d812516aa0b85eec8",
            "f0d6d0f477224823845c75152c264c3f",
            "ed69ab40cda9452a9cf3704f16ad7863",
            "45fc05436aef44dbb3b32cbf7bc9db64"
          ]
        }
      },
      "source": [
        "# Loading MNIST dataset from torchvision.dataset\n",
        "dataset = torchvision.datasets.MNIST(root='data/',\n",
        "                                           train=True, \n",
        "                                           transform=transforms.ToTensor(),\n",
        "                                           download=True)\n",
        "mean=dataset.data.float().mean()/255\n",
        "std=dataset.data.float().std()/255"
      ],
      "execution_count": 0,
      "outputs": [
        {
          "output_type": "stream",
          "text": [
            "Downloading http://yann.lecun.com/exdb/mnist/train-images-idx3-ubyte.gz to data/MNIST/raw/train-images-idx3-ubyte.gz\n"
          ],
          "name": "stdout"
        },
        {
          "output_type": "display_data",
          "data": {
            "application/vnd.jupyter.widget-view+json": {
              "model_id": "a822bb9ab313438d812516aa0b85eec8",
              "version_minor": 0,
              "version_major": 2
            },
            "text/plain": [
              "HBox(children=(IntProgress(value=1, bar_style='info', max=1), HTML(value='')))"
            ]
          },
          "metadata": {
            "tags": []
          }
        },
        {
          "output_type": "stream",
          "text": [
            "\n",
            "Extracting data/MNIST/raw/train-images-idx3-ubyte.gz to data/MNIST/raw\n",
            "Downloading http://yann.lecun.com/exdb/mnist/train-labels-idx1-ubyte.gz to data/MNIST/raw/train-labels-idx1-ubyte.gz\n"
          ],
          "name": "stdout"
        },
        {
          "output_type": "display_data",
          "data": {
            "application/vnd.jupyter.widget-view+json": {
              "model_id": "f0d6d0f477224823845c75152c264c3f",
              "version_minor": 0,
              "version_major": 2
            },
            "text/plain": [
              "HBox(children=(IntProgress(value=1, bar_style='info', max=1), HTML(value='')))"
            ]
          },
          "metadata": {
            "tags": []
          }
        },
        {
          "output_type": "stream",
          "text": [
            "\n",
            "Extracting data/MNIST/raw/train-labels-idx1-ubyte.gz to data/MNIST/raw\n",
            "Downloading http://yann.lecun.com/exdb/mnist/t10k-images-idx3-ubyte.gz to data/MNIST/raw/t10k-images-idx3-ubyte.gz\n"
          ],
          "name": "stdout"
        },
        {
          "output_type": "display_data",
          "data": {
            "application/vnd.jupyter.widget-view+json": {
              "model_id": "ed69ab40cda9452a9cf3704f16ad7863",
              "version_minor": 0,
              "version_major": 2
            },
            "text/plain": [
              "HBox(children=(IntProgress(value=1, bar_style='info', max=1), HTML(value='')))"
            ]
          },
          "metadata": {
            "tags": []
          }
        },
        {
          "output_type": "stream",
          "text": [
            "\n",
            "Extracting data/MNIST/raw/t10k-images-idx3-ubyte.gz to data/MNIST/raw\n",
            "Downloading http://yann.lecun.com/exdb/mnist/t10k-labels-idx1-ubyte.gz to data/MNIST/raw/t10k-labels-idx1-ubyte.gz\n"
          ],
          "name": "stdout"
        },
        {
          "output_type": "display_data",
          "data": {
            "application/vnd.jupyter.widget-view+json": {
              "model_id": "45fc05436aef44dbb3b32cbf7bc9db64",
              "version_minor": 0,
              "version_major": 2
            },
            "text/plain": [
              "HBox(children=(IntProgress(value=1, bar_style='info', max=1), HTML(value='')))"
            ]
          },
          "metadata": {
            "tags": []
          }
        },
        {
          "output_type": "stream",
          "text": [
            "\n",
            "Extracting data/MNIST/raw/t10k-labels-idx1-ubyte.gz to data/MNIST/raw\n",
            "Processing...\n",
            "Done!\n"
          ],
          "name": "stdout"
        }
      ]
    },
    {
      "cell_type": "code",
      "metadata": {
        "id": "zjCEF9GLKh3h",
        "colab_type": "code",
        "outputId": "2e175e35-79f8-41fb-d5aa-bcaf95dad0ea",
        "colab": {
          "base_uri": "https://localhost:8080/",
          "height": 54
        }
      },
      "source": [
        "print(\"The shape of the dataset is :\", dataset.data.size())"
      ],
      "execution_count": 0,
      "outputs": [
        {
          "output_type": "stream",
          "text": [
            "The shape of the dataset is : torch.Size([60000, 28, 28])\n"
          ],
          "name": "stdout"
        }
      ]
    },
    {
      "cell_type": "markdown",
      "metadata": {
        "id": "evHVqEC3e0Sv",
        "colab_type": "text"
      },
      "source": [
        "# Data Augmentation : \n",
        "I'll be using a data augmentation pipeline  using Torchvision "
      ]
    },
    {
      "cell_type": "code",
      "metadata": {
        "id": "ef2-ykdhKZdj",
        "colab_type": "code",
        "colab": {}
      },
      "source": [
        "# Applying image Augmentation techniques \n",
        "data_transforms = {\n",
        "    'train': torchvision.transforms.Compose([\n",
        "    torchvision.transforms.RandomRotation(degrees=(-10,10),expand=True),\n",
        "    torchvision.transforms.Resize((28, 28)),\n",
        "    torchvision.transforms.ToTensor(),\n",
        "    torchvision.transforms.Normalize(mean=[mean],std=[std])\n",
        "]),\n",
        "    'val': torchvision.transforms.Compose([\n",
        "    torchvision.transforms.ToTensor(),\n",
        "    torchvision.transforms.Normalize(mean=[mean],std=[std])\n",
        "                                 \n",
        "])\n",
        "}"
      ],
      "execution_count": 0,
      "outputs": []
    },
    {
      "cell_type": "code",
      "metadata": {
        "id": "415TtapdYwyK",
        "colab_type": "code",
        "colab": {}
      },
      "source": [
        "# Loading MNIST dataset from torchvision.dataset\n",
        "dataset = torchvision.datasets.MNIST(root='data/',\n",
        "                                           train=True, \n",
        "                                           transform=data_transforms['val'],\n",
        "                                           download=True)"
      ],
      "execution_count": 0,
      "outputs": []
    },
    {
      "cell_type": "code",
      "metadata": {
        "id": "p0KC3HSTYwyS",
        "colab_type": "code",
        "outputId": "9ce8262c-e385-40ff-fc74-29586b28deaf",
        "colab": {
          "base_uri": "https://localhost:8080/",
          "height": 54
        }
      },
      "source": [
        "print(\"The shape of the dataset is :\", dataset.data.size())"
      ],
      "execution_count": 0,
      "outputs": [
        {
          "output_type": "stream",
          "text": [
            "The shape of the dataset is : torch.Size([60000, 28, 28])\n"
          ],
          "name": "stdout"
        }
      ]
    },
    {
      "cell_type": "code",
      "metadata": {
        "id": "4SIV0EzhYwyZ",
        "colab_type": "code",
        "colab": {}
      },
      "source": [
        "# split the dataset to training and validation sets\n",
        "train_set, val_set = random_split(dataset, [50000, 10000])"
      ],
      "execution_count": 0,
      "outputs": []
    },
    {
      "cell_type": "code",
      "metadata": {
        "id": "H6dghr1mYwyg",
        "colab_type": "code",
        "outputId": "0c539f6a-879a-4ce2-cc2e-fd8bcc239f3d",
        "colab": {
          "base_uri": "https://localhost:8080/",
          "height": 318
        }
      },
      "source": [
        "sample_index = np.random.randint(5000)\n",
        "plt.imshow(dataset.__getitem__(sample_index)[0][0], cmap=plt.cm.gray_r, interpolation='nearest')\n",
        "plt.title(\"image label: %d\" % dataset.targets[sample_index])"
      ],
      "execution_count": 0,
      "outputs": [
        {
          "output_type": "execute_result",
          "data": {
            "text/plain": [
              "Text(0.5, 1.0, 'image label: 6')"
            ]
          },
          "metadata": {
            "tags": []
          },
          "execution_count": 9
        },
        {
          "output_type": "display_data",
          "data": {
            "image/png": "[encoded data removed]",
            "text/plain": [
              "<Figure size 432x288 with 1 Axes>"
            ]
          },
          "metadata": {
            "tags": []
          }
        }
      ]
    },
    {
      "cell_type": "markdown",
      "metadata": {
        "id": "62j_8lEmYwyn",
        "colab_type": "text"
      },
      "source": [
        "### Training the neural network\n",
        "The Model is Highly inspired from VGGNet, several 3 groups of CNNs (Groups of 3 in general + Maxpooling and Dropout ) "
      ]
    },
    {
      "cell_type": "code",
      "metadata": {
        "id": "Op2H1J4cYwyq",
        "colab_type": "code",
        "colab": {}
      },
      "source": [
        "class Model(nn.Module):\n",
        "    def __init__(self,drop):\n",
        "        super(Model, self).__init__()\n",
        "        self.conv1 = nn.Sequential(\n",
        "            nn.Conv2d(1, 32, 3, padding=1),nn.ReLU(),nn.BatchNorm2d(32),\n",
        "            nn.Conv2d(32, 32, 3, padding=1),nn.ReLU(),nn.BatchNorm2d(32),\n",
        "            nn.Conv2d(32, 32, 3, stride=2, padding=1),nn.ReLU(),nn.BatchNorm2d(32),\n",
        "            nn.MaxPool2d(2, 2),nn.Dropout(drop)\n",
        "        )\n",
        "        \n",
        "        self.conv2 = nn.Sequential(\n",
        "            nn.Conv2d(32, 64, 3, padding=1),nn.ReLU(),nn.BatchNorm2d(64),\n",
        "            nn.Conv2d(64, 64, 3, padding=1),nn.ReLU(),nn.BatchNorm2d(64),\n",
        "            nn.Conv2d(64, 64, 3, stride=2, padding=1),nn.ReLU(),nn.BatchNorm2d(64),\n",
        "            nn.MaxPool2d(2, 2),nn.Dropout(drop)\n",
        "        )\n",
        "        \n",
        "        self.conv3 = nn.Sequential(\n",
        "            nn.Conv2d(64, 128, 3, padding=1),nn.ReLU(),nn.BatchNorm2d(128),\n",
        "            nn.MaxPool2d(2, 2),nn.Dropout(drop)\n",
        "        )\n",
        "        \n",
        "        self.lin = nn.Sequential(\n",
        "            nn.Linear(128, 10)\n",
        "        )\n",
        "                \n",
        "    def forward(self, x):\n",
        "        x = self.conv1(x)\n",
        "        x = self.conv2(x)\n",
        "        x = self.conv3(x)\n",
        "        x = x.view(x.size(0), -1)\n",
        "        return self.lin(x)"
      ],
      "execution_count": 0,
      "outputs": []
    },
    {
      "cell_type": "code",
      "metadata": {
        "id": "dNgH9Md9ZPiv",
        "colab_type": "code",
        "colab": {}
      },
      "source": [
        "if torch.cuda.is_available :\n",
        "  device=torch.device('cuda')\n",
        "else:\n",
        "  device=torch.device('cpu')"
      ],
      "execution_count": 0,
      "outputs": []
    },
    {
      "cell_type": "code",
      "metadata": {
        "id": "px83rkjJYwyx",
        "colab_type": "code",
        "colab": {}
      },
      "source": [
        "\n",
        "# Create the model: \n",
        "model = Model(drop=0.3)\n",
        "model.to(device)\n",
        "# Choose the hyperparameters for training: \n",
        "num_epochs = 100\n",
        "batch_size = 64\n",
        "\n",
        "# Use mean squared loss function \n",
        "criterion = nn.CrossEntropyLoss()\n",
        "\n",
        "# Use SGD optimizer with a learning rate of 0.01\n",
        "# It is initialized on our model\n",
        "optimizer = torch.optim.Adam(model.parameters(), lr=0.01)"
      ],
      "execution_count": 0,
      "outputs": []
    },
    {
      "cell_type": "code",
      "metadata": {
        "id": "Dq_C1_RtdWVe",
        "colab_type": "code",
        "outputId": "fe266461-1e66-4a08-fc48-4d07d49e443e",
        "colab": {
          "base_uri": "https://localhost:8080/",
          "height": 181
        }
      },
      "source": [
        "loader"
      ],
      "execution_count": 0,
      "outputs": [
        {
          "output_type": "error",
          "ename": "NameError",
          "evalue": "ignored",
          "traceback": [
            "\u001b[0;31m---------------------------------------------------------------------------\u001b[0m",
            "\u001b[0;31mNameError\u001b[0m                                 Traceback (most recent call last)",
            "\u001b[0;32m<ipython-input-21-7874736be952>\u001b[0m in \u001b[0;36m<module>\u001b[0;34m()\u001b[0m\n\u001b[0;32m----> 1\u001b[0;31m \u001b[0mloader\u001b[0m\u001b[0;34m\u001b[0m\u001b[0;34m\u001b[0m\u001b[0m\n\u001b[0m",
            "\u001b[0;31mNameError\u001b[0m: name 'loader' is not defined"
          ]
        }
      ]
    },
    {
      "cell_type": "code",
      "metadata": {
        "id": "EyhbEW1hYwy4",
        "colab_type": "code",
        "colab": {}
      },
      "source": [
        "# define a function for training\n",
        "def Train_model(model,criterion,optimizer,loader,device,scheduler=None,mode='train'):\n",
        "  \"\"\"Model Training/Validation\n",
        "  ------------------------------\n",
        "  Output:\n",
        "  -----------\n",
        "  mean_loss: Mean loss over Epoch\"\"\"\n",
        "\n",
        "\n",
        "  if mode=='train':\n",
        "    model.train()\n",
        "  elif mode=='val':\n",
        "    model.eval()\n",
        "  else:\n",
        "    print('mode should be Train or Val')\n",
        "    return\n",
        "  losses=[]\n",
        "  Preds=[]\n",
        "  Actual=[]\n",
        "  correct = 0\n",
        "  total = 0\n",
        "  for inputs, labels in loader:\n",
        "    inputs, labels = inputs.to(device), labels.long().to(device)\n",
        "    batch_size=inputs.size(0)\n",
        "    #inputs=inputs.reshape(batch_size,-1)\n",
        "    optimizer.zero_grad()\n",
        "    with torch.set_grad_enabled(mode=='train'):\n",
        "      output = model(inputs)\n",
        "      loss = criterion(output, labels)\n",
        "      _,pred=torch.max(output, 1)\n",
        "      if mode=='train':\n",
        "        loss.backward()\n",
        "        optimizer.step()\n",
        "    losses.append(loss.item())\n",
        "    #Preds=np.append(Preds,pred.cpu().long().numpy())\n",
        "    #Actual=np.append(Actual,labels.cpu().long().numpy())\n",
        "    correct+=float(torch.sum(pred==labels.data))\n",
        "    total+=float(inputs.shape[0])\n",
        "\n",
        "  if mode =='train' and scheduler!=None:\n",
        "    scheduler.step()\n",
        "  mean_loss=np.mean(losses)\n",
        "  print('{} Loss {:.4f}  Acc : {:.2%}  '.format(mode,mean_loss,correct/total))\n",
        "  return mean_loss"
      ],
      "execution_count": 0,
      "outputs": []
    },
    {
      "cell_type": "code",
      "metadata": {
        "id": "ZqY6aTqaYmEU",
        "colab_type": "code",
        "colab": {}
      },
      "source": [
        "train_loader = DataLoader(train_set, batch_size, shuffle=True)\n",
        "val_loader = DataLoader(val_set, batch_size, shuffle=True)"
      ],
      "execution_count": 0,
      "outputs": []
    },
    {
      "cell_type": "code",
      "metadata": {
        "id": "kbwyu82cbcqV",
        "colab_type": "code",
        "outputId": "1f74531b-6d84-4aea-8d91-f214d0ad62df",
        "colab": {
          "base_uri": "https://localhost:8080/",
          "height": 181
        }
      },
      "source": [
        "train_set.data.size()"
      ],
      "execution_count": 0,
      "outputs": [
        {
          "output_type": "error",
          "ename": "AttributeError",
          "evalue": "ignored",
          "traceback": [
            "\u001b[0;31m---------------------------------------------------------------------------\u001b[0m",
            "\u001b[0;31mAttributeError\u001b[0m                            Traceback (most recent call last)",
            "\u001b[0;32m<ipython-input-20-69a226e5ddad>\u001b[0m in \u001b[0;36m<module>\u001b[0;34m()\u001b[0m\n\u001b[0;32m----> 1\u001b[0;31m \u001b[0mtrain_set\u001b[0m\u001b[0;34m.\u001b[0m\u001b[0mdata\u001b[0m\u001b[0;34m.\u001b[0m\u001b[0msize\u001b[0m\u001b[0;34m(\u001b[0m\u001b[0;34m)\u001b[0m\u001b[0;34m\u001b[0m\u001b[0;34m\u001b[0m\u001b[0m\n\u001b[0m",
            "\u001b[0;31mAttributeError\u001b[0m: 'Subset' object has no attribute 'data'"
          ]
        }
      ]
    },
    {
      "cell_type": "code",
      "metadata": {
        "id": "D4I6n_I_Ywy-",
        "colab_type": "code",
        "colab": {}
      },
      "source": [
        "train_error=[]\n",
        "val_error=[] \n",
        "best_loss=10 #just some error value here \n",
        "for epoch in range(num_epochs):\n",
        "  print('epoch: ',epoch)\n",
        "  train_error+=[Train_model(model,criterion,optimizer,train_loader,device,mode='train')]\n",
        "  val_error+=[Train_model(model,criterion,optimizer,val_loader,device,mode='val')]\n",
        "  if val_error[-1] < best_loss:\n",
        "    #Saving best State\n",
        "    best_loss=val_error[-1]\n",
        "    best_w = copy.deepcopy(model.state_dict())\n",
        "    best_epoch=epoch  \n",
        "model.load_state_dict(best_w)"
      ],
      "execution_count": 0,
      "outputs": []
    },
    {
      "cell_type": "code",
      "metadata": {
        "id": "otkkISHzVlMj",
        "colab_type": "code",
        "colab": {}
      },
      "source": [
        "torch.save(best_w,'best_w.pth')"
      ],
      "execution_count": 0,
      "outputs": []
    },
    {
      "cell_type": "code",
      "metadata": {
        "id": "M72YSRBPYwzE",
        "colab_type": "code",
        "outputId": "bca1efce-d6ae-40a1-a108-accb884930ac",
        "colab": {
          "base_uri": "https://localhost:8080/",
          "height": 312
        }
      },
      "source": [
        "# plot the training error wrt. the number of epochs: \n",
        "plt.plot(train_error,label='Train error')\n",
        "plt.plot(val_error,label='Val error')\n",
        "plt.xlabel(\"num_epochs\")\n",
        "plt.ylabel(\"Train error\")\n",
        "plt.title(\"Visualization of convergence\")"
      ],
      "execution_count": 0,
      "outputs": [
        {
          "output_type": "execute_result",
          "data": {
            "text/plain": [
              "Text(0.5, 1.0, 'Visualization of convergence')"
            ]
          },
          "metadata": {
            "tags": []
          },
          "execution_count": 16
        },
        {
          "output_type": "display_data",
          "data": {
            "image/png": "[encoded data removed]",
            "text/plain": [
              "<Figure size 432x288 with 1 Axes>"
            ]
          },
          "metadata": {
            "tags": []
          }
        }
      ]
    },
    {
      "cell_type": "markdown",
      "metadata": {
        "id": "KssrTQn8YwzJ",
        "colab_type": "text"
      },
      "source": [
        "### Evaluate the Model on validation set"
      ]
    },
    {
      "cell_type": "code",
      "metadata": {
        "id": "vRIdA-U5YwzV",
        "colab_type": "code",
        "outputId": "4c8c6a60-1c65-4fae-cfa4-c02787c95153",
        "colab": {
          "base_uri": "https://localhost:8080/",
          "height": 298
        }
      },
      "source": [
        "val_index = 66\n",
        "(image, label) = val_set[val_index]\n",
        "output = model(image.unsqueeze(0).to(device))\n",
        "_, prediction = torch.max(output.data, 1)\n",
        "plt.imshow(image.view(28, 28), cmap=plt.cm.gray_r, interpolation='nearest')\n",
        "plt.title(\"Prediction label: %d\" % prediction)"
      ],
      "execution_count": 0,
      "outputs": [
        {
          "output_type": "execute_result",
          "data": {
            "text/plain": [
              "Text(0.5, 1.0, 'Prediction label: 7')"
            ]
          },
          "metadata": {
            "tags": []
          },
          "execution_count": 17
        },
        {
          "output_type": "display_data",
          "data": {
            "image/png": "[encoded data removed]",
            "text/plain": [
              "<Figure size 432x288 with 1 Axes>"
            ]
          },
          "metadata": {
            "tags": []
          }
        }
      ]
    },
    {
      "cell_type": "markdown",
      "metadata": {
        "id": "eUb-6UscYwza",
        "colab_type": "text"
      },
      "source": [
        "### Exercise 1: Impact of the architecture of the model\n",
        "Define your own class `Model` to improve the predictions:\n",
        "\n",
        "* The convolutional layer can be a good choice to deal with images. Replace nn.Linear with [nn.Conv2d](https://pytorch.org/docs/stable/nn.html#conv2d).\n",
        "* Try to add more layers (1, 2, 3, more ?)\n",
        "* Change the number of neurons in hidden layers (5, 10, 20, more ?)\n",
        "* Try different activation functions such as [sigmoid](https://pytorch.org/docs/stable/nn.functional.html#torch.nn.functional.sigmoid), [tanh](https://pytorch.org/docs/stable/nn.functional.html#torch.nn.functional.tanh), [relu](https://pytorch.org/docs/stable/nn.functional.html#torch.nn.functional.relu), etc."
      ]
    },
    {
      "cell_type": "code",
      "metadata": {
        "id": "XTcRO9BOVKhb",
        "colab_type": "code",
        "colab": {}
      },
      "source": [
        "class Model(nn.Module):\n",
        "    def __init__(self,drop):\n",
        "        super(Model, self).__init__()\n",
        "        \"\"\"Architecture Inspired from VGGNet\"\"\"\n",
        "\n",
        "        self.conv1 = nn.Sequential(\n",
        "            nn.Conv2d(1, 128, 5, padding=1,stride=2),nn.ReLU(),nn.BatchNorm2d(128),\n",
        "            nn.Conv2d(128, 64, 3, padding=1),nn.ReLU(),nn.BatchNorm2d(64),\n",
        "            nn.MaxPool2d(2, 2),nn.Dropout(drop),\n",
        "            nn.Conv2d(64, 64, 3, padding=1),nn.ReLU(),nn.BatchNorm2d(64),\n",
        "            nn.Conv2d(64, 32, 3, padding=1),nn.ReLU(),nn.BatchNorm2d(32),\n",
        "            nn.MaxPool2d(2, 2),nn.Dropout(drop)\n",
        "        )\n",
        "        \n",
        "        self.lin = nn.Sequential(\n",
        "            nn.Linear(288, 10)\n",
        "        )\n",
        "\n",
        "    def forward(self, x):\n",
        "        x = self.conv1(x)\n",
        "        x = x.view(x.size(0), -1)\n",
        "        return self.lin(x)"
      ],
      "execution_count": 0,
      "outputs": []
    },
    {
      "cell_type": "code",
      "metadata": {
        "id": "S_UjdktNQGoa",
        "colab_type": "code",
        "outputId": "4fd12784-2309-44aa-fe6d-3fb417a11e9c",
        "colab": {
          "base_uri": "https://localhost:8080/",
          "height": 1000
        }
      },
      "source": [
        "# Create the model: \n",
        "model = Model(drop=0.3)\n",
        "model.to(device)\n",
        "optimizer = torch.optim.Adam(model.parameters(), lr=0.01)\n",
        "\n",
        "train_error=[]\n",
        "val_error=[]\n",
        "best_loss=10 #just some error value here\n",
        "for epoch in range(25):\n",
        "  print('epoch: ',epoch)\n",
        "  train_error+=[Train_model(model,criterion,optimizer,train_loader,device,mode='train')]\n",
        "  val_error+=[Train_model(model,criterion,optimizer,val_loader,device,mode='val')]\n",
        "  if val_error[-1] < best_loss:\n",
        "    #Saving best State\n",
        "    best_loss=val_error[-1]\n",
        "    best_w = copy.deepcopy(model.state_dict())\n",
        "    best_epoch=epoch  \n",
        "model.load_state_dict(best_w)"
      ],
      "execution_count": 0,
      "outputs": [
        {
          "output_type": "stream",
          "text": [
            "epoch:  0\n",
            "train Loss 0.1506  Acc : 95.32%  \n",
            "val Loss 0.0497  Acc : 98.24%  \n",
            "epoch:  1\n",
            "train Loss 0.0621  Acc : 98.01%  \n",
            "val Loss 0.0405  Acc : 98.67%  \n",
            "epoch:  2\n",
            "train Loss 0.0477  Acc : 98.53%  \n",
            "val Loss 0.0353  Acc : 98.80%  \n",
            "epoch:  3\n",
            "train Loss 0.0468  Acc : 98.55%  \n",
            "val Loss 0.0305  Acc : 98.97%  \n",
            "epoch:  4\n",
            "train Loss 0.0407  Acc : 98.76%  \n",
            "val Loss 0.0322  Acc : 98.93%  \n",
            "epoch:  5\n",
            "train Loss 0.0394  Acc : 98.79%  \n",
            "val Loss 0.0301  Acc : 98.98%  \n",
            "epoch:  6\n",
            "train Loss 0.0353  Acc : 98.86%  \n",
            "val Loss 0.0280  Acc : 99.07%  \n",
            "epoch:  7\n",
            "train Loss 0.0341  Acc : 98.91%  \n",
            "val Loss 0.0353  Acc : 99.02%  \n",
            "epoch:  8\n",
            "train Loss 0.0313  Acc : 99.02%  \n",
            "val Loss 0.0352  Acc : 99.15%  \n",
            "epoch:  9\n",
            "train Loss 0.0308  Acc : 99.00%  \n",
            "val Loss 0.0327  Acc : 99.09%  \n",
            "epoch:  10\n",
            "train Loss 0.0279  Acc : 99.12%  \n",
            "val Loss 0.0358  Acc : 99.11%  \n",
            "epoch:  11\n",
            "train Loss 0.0266  Acc : 99.15%  \n",
            "val Loss 0.0287  Acc : 99.15%  \n",
            "epoch:  12\n",
            "train Loss 0.0267  Acc : 99.13%  \n",
            "val Loss 0.0252  Acc : 99.25%  \n",
            "epoch:  13\n",
            "train Loss 0.0233  Acc : 99.29%  \n",
            "val Loss 0.0276  Acc : 99.26%  \n",
            "epoch:  14\n",
            "train Loss 0.0243  Acc : 99.27%  \n",
            "val Loss 0.0278  Acc : 99.27%  \n",
            "epoch:  15\n",
            "train Loss 0.0246  Acc : 99.26%  \n",
            "val Loss 0.0304  Acc : 99.17%  \n",
            "epoch:  16\n",
            "train Loss 0.0207  Acc : 99.37%  \n",
            "val Loss 0.0374  Acc : 99.01%  \n",
            "epoch:  17\n",
            "train Loss 0.0222  Acc : 99.34%  \n",
            "val Loss 0.0261  Acc : 99.26%  \n",
            "epoch:  18\n",
            "train Loss 0.0201  Acc : 99.37%  \n",
            "val Loss 0.0293  Acc : 99.20%  \n",
            "epoch:  19\n",
            "train Loss 0.0211  Acc : 99.35%  \n",
            "val Loss 0.0269  Acc : 99.25%  \n",
            "epoch:  20\n",
            "train Loss 0.0181  Acc : 99.43%  \n",
            "val Loss 0.0346  Acc : 99.32%  \n",
            "epoch:  21\n",
            "train Loss 0.0194  Acc : 99.42%  \n",
            "val Loss 0.0325  Acc : 99.31%  \n",
            "epoch:  22\n",
            "train Loss 0.0180  Acc : 99.47%  \n",
            "val Loss 0.0260  Acc : 99.38%  \n",
            "epoch:  23\n",
            "train Loss 0.0192  Acc : 99.45%  \n",
            "val Loss 0.0335  Acc : 99.28%  \n",
            "epoch:  24\n",
            "train Loss 0.0153  Acc : 99.54%  \n",
            "val Loss 0.0296  Acc : 99.34%  \n"
          ],
          "name": "stdout"
        },
        {
          "output_type": "execute_result",
          "data": {
            "text/plain": [
              "<All keys matched successfully>"
            ]
          },
          "metadata": {
            "tags": []
          },
          "execution_count": 150
        }
      ]
    },
    {
      "cell_type": "markdown",
      "metadata": {
        "id": "q3gLfGCpYwzb",
        "colab_type": "text"
      },
      "source": [
        "### Exercise 2: Impact of the optimizer\n",
        "Retrain the model by using different parameters of the optimizer; you can change its parameters in the cell initializing it, after the definition of your model.\n",
        "\n",
        "* Use different batch sizes, from 10 to 1 000 for instance\n",
        "* Try different values of the learning rate (between 0.001 and 10), and see how these impact the training process. Do all network architectures react the same way to different learning rates?\n",
        "* Change the duration of the training by increasing the number of epochs\n",
        "* Try other optimizers, such as [Adam](https://pytorch.org/docs/stable/optim.html?highlight=adam#torch.optim.Adam) or [RMSprop](https://pytorch.org/docs/stable/optim.html?highlight=rmsprop#torch.optim.RMSprop)"
      ]
    },
    {
      "cell_type": "code",
      "metadata": {
        "id": "90OV9s035L5B",
        "colab_type": "code",
        "outputId": "db1bb85f-f3fa-4d86-b22b-d5e5dff03f0a",
        "colab": {
          "base_uri": "https://localhost:8080/",
          "height": 1000
        }
      },
      "source": [
        "# Create the model: \n",
        "model = Model(drop=0.3)\n",
        "model.to(device)\n",
        "optimizer = torch.optim.SGD(model.parameters(), lr=0.1)\n",
        "\n",
        "batch_size = 64\n",
        "train_loader = DataLoader(train_set, batch_size, shuffle=True)\n",
        "val_loader = DataLoader(val_set, batch_size, shuffle=True)\n",
        "\n",
        "train_error=[]\n",
        "val_error=[]\n",
        "best_loss=10 #just some error value here\n",
        "for epoch in range(30):\n",
        "  print('epoch: ',epoch)\n",
        "  train_error+=[Train_model(model,criterion,optimizer,train_loader,device,mode='train')]\n",
        "  val_error+=[Train_model(model,criterion,optimizer,val_loader,device,mode='val')]\n",
        "  if val_error[-1] < best_loss:\n",
        "    #Saving best State\n",
        "    best_loss=val_error[-1]\n",
        "    best_w = copy.deepcopy(model.state_dict())\n",
        "    best_epoch=epoch  \n",
        "model.load_state_dict(best_w)"
      ],
      "execution_count": 0,
      "outputs": [
        {
          "output_type": "stream",
          "text": [
            "epoch:  0\n",
            "train Loss 0.1495  Acc : 95.66%  \n",
            "val Loss 0.0635  Acc : 97.84%  \n",
            "epoch:  1\n",
            "train Loss 0.0542  Acc : 98.27%  \n",
            "val Loss 0.0348  Acc : 98.87%  \n",
            "epoch:  2\n",
            "train Loss 0.0395  Acc : 98.73%  \n",
            "val Loss 0.0301  Acc : 99.14%  \n",
            "epoch:  3\n",
            "train Loss 0.0324  Acc : 98.98%  \n",
            "val Loss 0.0262  Acc : 99.21%  \n",
            "epoch:  4\n",
            "train Loss 0.0254  Acc : 99.13%  \n",
            "val Loss 0.0263  Acc : 99.26%  \n",
            "epoch:  5\n",
            "train Loss 0.0218  Acc : 99.31%  \n",
            "val Loss 0.0280  Acc : 99.16%  \n",
            "epoch:  6\n",
            "train Loss 0.0190  Acc : 99.37%  \n",
            "val Loss 0.0269  Acc : 99.18%  \n",
            "epoch:  7\n",
            "train Loss 0.0173  Acc : 99.43%  \n",
            "val Loss 0.0273  Acc : 99.21%  \n",
            "epoch:  8\n",
            "train Loss 0.0177  Acc : 99.43%  \n",
            "val Loss 0.0244  Acc : 99.29%  \n",
            "epoch:  9\n",
            "train Loss 0.0142  Acc : 99.49%  \n",
            "val Loss 0.0285  Acc : 99.16%  \n",
            "epoch:  10\n",
            "train Loss 0.0125  Acc : 99.60%  \n",
            "val Loss 0.0284  Acc : 99.23%  \n",
            "epoch:  11\n",
            "train Loss 0.0111  Acc : 99.64%  \n",
            "val Loss 0.0282  Acc : 99.20%  \n",
            "epoch:  12\n",
            "train Loss 0.0104  Acc : 99.67%  \n",
            "val Loss 0.0264  Acc : 99.32%  \n",
            "epoch:  13\n",
            "train Loss 0.0097  Acc : 99.64%  \n",
            "val Loss 0.0261  Acc : 99.38%  \n",
            "epoch:  14\n",
            "train Loss 0.0092  Acc : 99.71%  \n",
            "val Loss 0.0288  Acc : 99.26%  \n",
            "epoch:  15\n",
            "train Loss 0.0090  Acc : 99.70%  \n",
            "val Loss 0.0276  Acc : 99.38%  \n",
            "epoch:  16\n",
            "train Loss 0.0091  Acc : 99.70%  \n",
            "val Loss 0.0304  Acc : 99.28%  \n",
            "epoch:  17\n",
            "train Loss 0.0080  Acc : 99.73%  \n",
            "val Loss 0.0260  Acc : 99.34%  \n",
            "epoch:  18\n",
            "train Loss 0.0064  Acc : 99.77%  \n",
            "val Loss 0.0268  Acc : 99.34%  \n",
            "epoch:  19\n",
            "train Loss 0.0075  Acc : 99.73%  \n",
            "val Loss 0.0331  Acc : 99.20%  \n",
            "epoch:  20\n",
            "train Loss 0.0069  Acc : 99.74%  \n",
            "val Loss 0.0271  Acc : 99.36%  \n",
            "epoch:  21\n",
            "train Loss 0.0061  Acc : 99.78%  \n",
            "val Loss 0.0282  Acc : 99.40%  \n",
            "epoch:  22\n",
            "train Loss 0.0061  Acc : 99.79%  \n",
            "val Loss 0.0260  Acc : 99.41%  \n",
            "epoch:  23\n",
            "train Loss 0.0054  Acc : 99.82%  \n",
            "val Loss 0.0303  Acc : 99.37%  \n",
            "epoch:  24\n",
            "train Loss 0.0049  Acc : 99.85%  \n",
            "val Loss 0.0290  Acc : 99.37%  \n",
            "epoch:  25\n",
            "train Loss 0.0050  Acc : 99.82%  \n",
            "val Loss 0.0294  Acc : 99.40%  \n",
            "epoch:  26\n",
            "train Loss 0.0046  Acc : 99.85%  \n",
            "val Loss 0.0279  Acc : 99.43%  \n",
            "epoch:  27\n",
            "train Loss 0.0046  Acc : 99.85%  \n",
            "val Loss 0.0294  Acc : 99.33%  \n",
            "epoch:  28\n",
            "train Loss 0.0045  Acc : 99.84%  \n",
            "val Loss 0.0316  Acc : 99.32%  \n",
            "epoch:  29\n",
            "train Loss 0.0048  Acc : 99.83%  \n",
            "val Loss 0.0360  Acc : 99.25%  \n"
          ],
          "name": "stdout"
        },
        {
          "output_type": "execute_result",
          "data": {
            "text/plain": [
              "<All keys matched successfully>"
            ]
          },
          "metadata": {
            "tags": []
          },
          "execution_count": 26
        }
      ]
    },
    {
      "cell_type": "markdown",
      "metadata": {
        "id": "-BSmoHllYwzd",
        "colab_type": "text"
      },
      "source": [
        "### Exercise 3: Impact of the loss function\n",
        "The MSE error is rarely used in this case. The cross entropy loss can be a better choice for multi-classification problems. In pytorch, the cross entropy loss is defined by [nn.CrossEntropyLoss](https://pytorch.org/docs/stable/nn.html#crossentropyloss). Replace the MSE loss by this one to observe its impact.\n",
        "\n",
        "**Note:** In order to use nn.CrossEntropyLoss correctly, don't add an activation function to the last layer of your network. And one-hot encoding is no longer needed to calculate the loss, delete the encoding procedures in function `train`.   "
      ]
    },
    {
      "cell_type": "markdown",
      "metadata": {
        "id": "r6Z7I-syYwze",
        "colab_type": "text"
      },
      "source": [
        "### Exercise 4: Prediction on test set\n",
        "\n",
        "Once you have a model that seems satisfying on the validation dataset, you SHOULD evaluate it on a test dataset that has never been used before, to obtain a final accuracy value."
      ]
    },
    {
      "cell_type": "code",
      "metadata": {
        "id": "aRHjNbvuYwzf",
        "colab_type": "code",
        "colab": {}
      },
      "source": [
        "# Loading MNIST test set from torchvision.dataset\n",
        "test_set = torchvision.datasets.MNIST(root='data/',\n",
        "                                         train=False,\n",
        "                                         transform=data_transforms['val'],\n",
        "                                         download=False)"
      ],
      "execution_count": 0,
      "outputs": []
    },
    {
      "cell_type": "code",
      "metadata": {
        "id": "5McR8M2xYwzk",
        "colab_type": "code",
        "outputId": "d1bf5e8a-70cb-469b-e2a7-97f0af4be3dd",
        "colab": {
          "base_uri": "https://localhost:8080/",
          "height": 34
        }
      },
      "source": [
        "test_loader = DataLoader(test_set, batch_size, shuffle=True)\n",
        "test_error=[Train_model(model,criterion,optimizer,test_loader,device,mode='val')]"
      ],
      "execution_count": 0,
      "outputs": [
        {
          "output_type": "stream",
          "text": [
            "val Loss 0.0188  Acc : 99.43%  \n"
          ],
          "name": "stdout"
        }
      ]
    },
    {
      "cell_type": "code",
      "metadata": {
        "colab_type": "code",
        "outputId": "42b006c3-6a3b-405a-85f3-6c3cf6c8ad26",
        "id": "19YStaBV2bw1",
        "colab": {
          "base_uri": "https://localhost:8080/",
          "height": 312
        }
      },
      "source": [
        "# plot the training error wrt. the number of epochs: \n",
        "plt.figure(figsize=)\n",
        "plt.plot(train_error,label='Train error', )\n",
        "plt.plot(val_error,label='Val error')\n",
        "plt.xlabel(\"num_epochs\")\n",
        "plt.ylabel(\"Train error\")\n",
        "plt.title(\"Visualization of convergence\")"
      ],
      "execution_count": 0,
      "outputs": [
        {
          "output_type": "execute_result",
          "data": {
            "text/plain": [
              "Text(0.5, 1.0, 'Visualization of convergence')"
            ]
          },
          "metadata": {
            "tags": []
          },
          "execution_count": 30
        },
        {
          "output_type": "display_data",
          "data": {
            "image/png": "[encoded data removed]",
            "text/plain": [
              "<Figure size 432x288 with 1 Axes>"
            ]
          },
          "metadata": {
            "tags": []
          }
        }
      ]
    }
  ]
}