{
  "nbformat": 4,
  "nbformat_minor": 0,
  "metadata": {
    "kernelspec": {
      "display_name": "Python 3",
      "language": "python",
      "name": "python3"
    },
    "language_info": {
      "codemirror_mode": {
        "name": "ipython",
        "version": 3
      },
      "file_extension": ".py",
      "mimetype": "text/x-python",
      "name": "python",
      "nbconvert_exporter": "python",
      "pygments_lexer": "ipython3",
      "version": "3.7.6"
    },
    "colab": {
      "name": "Training_binary_classification_model_with_pytorch.ipynb",
      "provenance": [],
      "collapsed_sections": [],
      "include_colab_link": true
    }
  },
  "cells": [
    {
      "cell_type": "markdown",
      "metadata": {
        "id": "view-in-github",
        "colab_type": "text"
      },
      "source": [
        "<a href=\"https://colab.research.google.com/github/jedhouas/Advanced-Deep-Learning/blob/master/Training_binary_classification_model_with_pytorch.ipynb\" target=\"_parent\"><img src=\"https://colab.research.google.com/assets/colab-badge.svg\" alt=\"Open In Colab\"/></a>"
      ]
    },
    {
      "cell_type": "markdown",
      "metadata": {
        "id": "HX9Ns8YHiM90",
        "colab_type": "text"
      },
      "source": [
        "## Binary classification problem"
      ]
    },
    {
      "cell_type": "markdown",
      "metadata": {
        "id": "Nh1NJ8BLiM94",
        "colab_type": "text"
      },
      "source": [
        "### Dataset :"
      ]
    },
    {
      "cell_type": "markdown",
      "metadata": {
        "id": "gyMJt5ZQiM98",
        "colab_type": "text"
      },
      "source": [
        "We study first a binary classification problem, performed by a neural network. Each input has two real features, and the output can be only 0 or 1. The training set contains 4000 examples, and the validation set, 1000."
      ]
    },
    {
      "cell_type": "code",
      "metadata": {
        "id": "qoe21VbiiM9-",
        "colab_type": "code",
        "colab": {}
      },
      "source": [
        "import matplotlib.pyplot as plt\n",
        "import numpy as np\n",
        "import torch\n",
        "\n",
        "# Display figures on jupyter notebook\n",
        "%matplotlib inline"
      ],
      "execution_count": 0,
      "outputs": []
    },
    {
      "cell_type": "code",
      "metadata": {
        "id": "cjaRoYYeiM-J",
        "colab_type": "code",
        "colab": {}
      },
      "source": [
        "# Define a function to generate the dataset, in the form of two interlaced spirals\n",
        "def spiral(phi):\n",
        "    x = (phi+1)*torch.cos(phi)\n",
        "    y = phi*torch.sin(phi)\n",
        "    return torch.cat((x, y), dim=1)\n",
        "\n",
        "def generate_data(num_data):\n",
        "    angles = torch.empty((num_data, 1)).uniform_(0, 10)\n",
        "    data = spiral(angles)\n",
        "    # add some noise to the data\n",
        "    data += torch.empty((num_data, 2)).normal_(0.0, 0.3)\n",
        "    labels = torch.zeros((num_data,), dtype=torch.int)\n",
        "    # flip half of the points to create two classes\n",
        "    data[num_data//2:,:] *= -1\n",
        "    labels[num_data//2:] = 1\n",
        "    return data, labels"
      ],
      "execution_count": 0,
      "outputs": []
    },
    {
      "cell_type": "code",
      "metadata": {
        "id": "FRnWan6YiM-S",
        "colab_type": "code",
        "outputId": "9f6b1c1b-1d41-4b96-a1db-bc107bd0e1fb",
        "colab": {
          "base_uri": "https://localhost:8080/",
          "height": 54
        }
      },
      "source": [
        "# Generate the training set with 4000 examples by function generate_data\n",
        "\n",
        "X_train, y_train = generate_data(4000)\n",
        "X_train.size()"
      ],
      "execution_count": 0,
      "outputs": [
        {
          "output_type": "execute_result",
          "data": {
            "text/plain": [
              "torch.Size([4000, 2])"
            ]
          },
          "metadata": {
            "tags": []
          },
          "execution_count": 3
        }
      ]
    },
    {
      "cell_type": "code",
      "metadata": {
        "id": "rZ2O7tkQiM-W",
        "colab_type": "code",
        "colab": {}
      },
      "source": [
        "# Define the vis_data function to visualize the dataset\n",
        "def vis_data(X, y):\n",
        "    plt.figure(figsize=(5, 5))\n",
        "    plt.plot(X[y==1, 0], X[y==1, 1], 'r+') #Examples are represented as red plusses for label 1\n",
        "    plt.plot(X[y==0, 0], X[y==0, 1], 'b+') #Examples are represented as blue plusses for label 0 "
      ],
      "execution_count": 0,
      "outputs": []
    },
    {
      "cell_type": "markdown",
      "metadata": {
        "id": "eYpsLB-FiM-b",
        "colab_type": "text"
      },
      "source": [
        "We can now invoke the `vis_data` function on the dataset previously generated to see what it looks like:"
      ]
    },
    {
      "cell_type": "code",
      "metadata": {
        "id": "-tzk-vboiM-c",
        "colab_type": "code",
        "outputId": "68603d9f-fef0-4eed-e02f-31037520af12",
        "colab": {
          "base_uri": "https://localhost:8080/",
          "height": 340
        }
      },
      "source": [
        "vis_data(X_train, y_train) # visualize training set"
      ],
      "execution_count": 0,
      "outputs": [
        {
          "output_type": "display_data",
          "data": {
            "image/png": "[encoded data removed]",
            "text/plain": [
              "<Figure size 360x360 with 1 Axes>"
            ]
          },
          "metadata": {
            "tags": []
          }
        }
      ]
    },
    {
      "cell_type": "markdown",
      "metadata": {
        "id": "-NZTeeZBiM-h",
        "colab_type": "text"
      },
      "source": [
        "We use the `TensorDataset` wrapper from pytorch, so that the framework can easily understand our tensors as a proper dataset."
      ]
    },
    {
      "cell_type": "code",
      "metadata": {
        "id": "YgAeAi29iM-i",
        "colab_type": "code",
        "colab": {}
      },
      "source": [
        "from torch.utils.data import TensorDataset, DataLoader\n",
        "training_set = TensorDataset(X_train, y_train)"
      ],
      "execution_count": 0,
      "outputs": []
    },
    {
      "cell_type": "markdown",
      "metadata": {
        "id": "1-o1a65XiM-k",
        "colab_type": "text"
      },
      "source": [
        "###  Training the model with a neural network"
      ]
    },
    {
      "cell_type": "markdown",
      "metadata": {
        "id": "hrDi9hmwiM-l",
        "colab_type": "text"
      },
      "source": [
        "Here is a skeleton of a neural network with a single layer (thus: a linear classifier). This is the model you'll work on to improve it during this exercise.\n",
        "\n",
        "Look at the code and run it to see the structure, then follow the questions below to iteratively improve the model."
      ]
    },
    {
      "cell_type": "code",
      "metadata": {
        "id": "Nb2SEuQYiM-m",
        "colab_type": "code",
        "colab": {}
      },
      "source": [
        "import torch.nn as nn\n",
        "import torch.nn.functional as F"
      ],
      "execution_count": 0,
      "outputs": []
    },
    {
      "cell_type": "markdown",
      "metadata": {
        "id": "K9GpSUAsiM-o",
        "colab_type": "text"
      },
      "source": [
        "At the first step, we define a neural network with just one layer. A useful tutorial for constructing model can be found [here](https://pytorch.org/tutorials/beginner/blitz/neural_networks_tutorial.html#sphx-glr-beginner-blitz-neural-networks-tutorial-py)."
      ]
    },
    {
      "cell_type": "code",
      "metadata": {
        "id": "t3_LXWctiM-p",
        "colab_type": "code",
        "colab": {}
      },
      "source": [
        "# Basic network structure with a single layer\n",
        "class Model(nn.Module):\n",
        "    \n",
        "    def __init__(self):\n",
        "        super(Model, self).__init__()\n",
        "        # A single linear layer\n",
        "        # The model has 2 inputs (the coordinates of the point) and an output (the prediction)\n",
        "        self.l1 = nn.Linear(2, 1)\n",
        "        \n",
        "    def forward(self, inputs):\n",
        "        # We want the model to predict 0 for one class and 1 for the other class\n",
        "        # A Sigmoid activation function seems appropriate\n",
        "        outputs = torch.sigmoid(self.l1(inputs))\n",
        "        return outputs"
      ],
      "execution_count": 0,
      "outputs": []
    },
    {
      "cell_type": "code",
      "metadata": {
        "id": "L_0f5Od7iM-t",
        "colab_type": "code",
        "colab": {}
      },
      "source": [
        "# Create the model: \n",
        "model = Model()\n",
        "\n",
        "# Choose the hyperparameters for training: \n",
        "num_epochs = 10\n",
        "batch_size = 10\n",
        "\n",
        "# Training criterion. This one is a mean squared error (MSE) loss between the output\n",
        "# of the network and the target label\n",
        "criterion = nn.MSELoss()\n",
        "\n",
        "# Use SGD optimizer with a learning rate of 0.01\n",
        "# It is initialized on our model\n",
        "optimizer = torch.optim.SGD(model.parameters(), lr=0.01)"
      ],
      "execution_count": 0,
      "outputs": []
    },
    {
      "cell_type": "markdown",
      "metadata": {
        "id": "STQKqXn5iM-x",
        "colab_type": "text"
      },
      "source": [
        "#### Training the defined model\n",
        "More information can be found [here](https://pytorch.org/tutorials/beginner/blitz/neural_networks_tutorial.html#sphx-glr-beginner-blitz-neural-networks-tutorial-py)."
      ]
    },
    {
      "cell_type": "code",
      "metadata": {
        "id": "eDi3ulFHiM-y",
        "colab_type": "code",
        "colab": {}
      },
      "source": [
        "# define a function for training\n",
        "def train(num_epochs, batch_size, criterion, optimizer, model, dataset):\n",
        "    train_error = []\n",
        "    train_loader = DataLoader(dataset, batch_size, shuffle=True)\n",
        "    model.train()\n",
        "    for epoch in range(num_epochs):\n",
        "        epoch_average_loss = 0.0\n",
        "        for (X_batch, y_real) in train_loader:\n",
        "            y_pre = model(X_batch).view(-1)\n",
        "            loss = criterion(y_pre, y_real.float())\n",
        "            optimizer.zero_grad()\n",
        "            loss.backward()\n",
        "            optimizer.step()\n",
        "            epoch_average_loss += loss.item() * batch_size / len(dataset)\n",
        "        train_error.append(epoch_average_loss)\n",
        "        print('Epoch [{}/{}], Loss: {:.4f}'\n",
        "                      .format(epoch+1, num_epochs, epoch_average_loss))\n",
        "    return train_error"
      ],
      "execution_count": 0,
      "outputs": []
    },
    {
      "cell_type": "code",
      "metadata": {
        "id": "mxdMoYFRiM-1",
        "colab_type": "code",
        "outputId": "f244c13d-e33b-41c8-d1fa-b598078fce9f",
        "colab": {
          "base_uri": "https://localhost:8080/",
          "height": 203
        }
      },
      "source": [
        "train_error = train(num_epochs, batch_size, criterion, optimizer, model, training_set)"
      ],
      "execution_count": 0,
      "outputs": [
        {
          "output_type": "stream",
          "text": [
            "Epoch [1/10], Loss: 0.2706\n",
            "Epoch [2/10], Loss: 0.2403\n",
            "Epoch [3/10], Loss: 0.2370\n",
            "Epoch [4/10], Loss: 0.2357\n",
            "Epoch [5/10], Loss: 0.2352\n",
            "Epoch [6/10], Loss: 0.2349\n",
            "Epoch [7/10], Loss: 0.2345\n",
            "Epoch [8/10], Loss: 0.2347\n",
            "Epoch [9/10], Loss: 0.2346\n",
            "Epoch [10/10], Loss: 0.2345\n"
          ],
          "name": "stdout"
        }
      ]
    },
    {
      "cell_type": "code",
      "metadata": {
        "id": "z4U1WpzYiM-3",
        "colab_type": "code",
        "outputId": "12c0ff46-230e-4d43-a6cf-7b22abb6fe87",
        "colab": {
          "base_uri": "https://localhost:8080/",
          "height": 333
        }
      },
      "source": [
        "# plot the training error wrt. the number of epochs: \n",
        "plt.plot(range(1, num_epochs+1), train_error)\n",
        "plt.xlabel(\"num_epochs\")\n",
        "plt.ylabel(\"Train error\")\n",
        "plt.title(\"Visualization of convergence\")"
      ],
      "execution_count": 0,
      "outputs": [
        {
          "output_type": "execute_result",
          "data": {
            "text/plain": [
              "Text(0.5, 1.0, 'Visualization of convergence')"
            ]
          },
          "metadata": {
            "tags": []
          },
          "execution_count": 12
        },
        {
          "output_type": "display_data",
          "data": {
            "image/png": "[encoded data removed]",
            "text/plain": [
              "<Figure size 432x288 with 1 Axes>"
            ]
          },
          "metadata": {
            "tags": []
          }
        }
      ]
    },
    {
      "cell_type": "markdown",
      "metadata": {
        "id": "xRwGGxCciM-4",
        "colab_type": "text"
      },
      "source": [
        "#### Evaluate the model on the validation set"
      ]
    },
    {
      "cell_type": "code",
      "metadata": {
        "id": "fCwV_NcFiM-5",
        "colab_type": "code",
        "colab": {}
      },
      "source": [
        "# Generate 1000 validation data:\n",
        "X_val, y_val = generate_data(1000)"
      ],
      "execution_count": 0,
      "outputs": []
    },
    {
      "cell_type": "code",
      "metadata": {
        "id": "eeGhV-OtiM-7",
        "colab_type": "code",
        "colab": {}
      },
      "source": [
        "# predict labels for validation set\n",
        "model.eval() # set the model to test mode\n",
        "with torch.no_grad():\n",
        "    y_pre = model(X_val).view(-1)"
      ],
      "execution_count": 0,
      "outputs": []
    },
    {
      "cell_type": "code",
      "metadata": {
        "id": "Eo8O6nlAiM-8",
        "colab_type": "code",
        "colab": {}
      },
      "source": [
        "# Calculate the accuracy on validation set to evaluate the model by the function accuracy\n",
        "def accuracy(y_real, y_pre):\n",
        "    y_pre[y_pre<0.5] = 0\n",
        "    y_pre[y_pre>=0.5] = 1\n",
        "\n",
        "    acc = 1 - torch.sum(torch.abs(y_pre - y_real))/len(y_pre)\n",
        "    print('Accuracy of the network on the 1000 validation data: {:.2f} %'.format(acc.item()*100))"
      ],
      "execution_count": 0,
      "outputs": []
    },
    {
      "cell_type": "code",
      "metadata": {
        "id": "a6gDwaFEiM--",
        "colab_type": "code",
        "outputId": "d621cd24-6283-490c-d872-0b7c2901c335",
        "colab": {
          "base_uri": "https://localhost:8080/",
          "height": 54
        }
      },
      "source": [
        "accuracy(y_val, y_pre)"
      ],
      "execution_count": 0,
      "outputs": [
        {
          "output_type": "stream",
          "text": [
            "Accuracy of the network on the 1000 validation data: 60.50 %\n"
          ],
          "name": "stdout"
        }
      ]
    },
    {
      "cell_type": "code",
      "metadata": {
        "id": "YBIdHJGyiM_A",
        "colab_type": "code",
        "colab": {}
      },
      "source": [
        "# Compare the prediction with real labels\n",
        "\n",
        "def compare_pred(X, y_real, y_pre):\n",
        "    plt.figure(figsize=(10, 5))\n",
        "\n",
        "    plt.subplot(121)\n",
        "    plt.plot(X[y_real==1, 0], X[y_real==1, 1], 'r+') #Examples are represented as a red plusses for label 1\n",
        "    plt.plot(X[y_real==0, 0], X[y_real==0, 1], 'b+') #Examples are represented as a blue plusses for label 0\n",
        "    plt.title(\"real data\")\n",
        "\n",
        "    plt.subplot(122)\n",
        "    plt.plot(X[y_pre==1, 0], X[y_pre==1, 1], 'r+')\n",
        "    plt.plot(X[y_pre==0, 0], X[y_pre==0, 1], 'b+')\n",
        "    plt.title(\"prediciton results\")"
      ],
      "execution_count": 0,
      "outputs": []
    },
    {
      "cell_type": "code",
      "metadata": {
        "id": "PS6SFRziiM_B",
        "colab_type": "code",
        "outputId": "d65da284-c5f3-42ef-a012-963c1da2e6e0",
        "colab": {
          "base_uri": "https://localhost:8080/",
          "height": 356
        }
      },
      "source": [
        "compare_pred(X_val, y_val, y_pre)"
      ],
      "execution_count": 0,
      "outputs": [
        {
          "output_type": "display_data",
          "data": {
            "image/png": "[encoded data removed]",
            "text/plain": [
              "<Figure size 720x360 with 2 Axes>"
            ]
          },
          "metadata": {
            "tags": []
          }
        }
      ]
    },
    {
      "cell_type": "markdown",
      "metadata": {
        "id": "jZ5wR61diM_F",
        "colab_type": "text"
      },
      "source": [
        "### Exercice 1: Impact of the architecture of the model\n",
        "\n",
        "The class `Model` is the definition of your model. You can now modify it to try out different architectures and\n",
        "see the impact of the following factors:\n",
        "\n",
        "* Try to add more layers (1, 2, 3, more ?)\n",
        "* Try to different activation functions ([sigmoid](https://pytorch.org/docs/stable/nn.functional.html#torch.nn.functional.sigmoid), [tanh](https://pytorch.org/docs/stable/nn.functional.html#torch.nn.functional.tanh), [relu](https://pytorch.org/docs/stable/nn.functional.html#torch.nn.functional.relu), etc.)\n",
        "* Try to change the number of neurons for each layer (5, 10, 20, more ?)"
      ]
    },
    {
      "cell_type": "code",
      "metadata": {
        "id": "bWZaV5LNkw5F",
        "colab_type": "code",
        "colab": {}
      },
      "source": [
        "class Model2(nn.Module):\n",
        "    \n",
        "    def __init__(self):\n",
        "        super(Model2, self).__init__()\n",
        "        # A single linear layer\n",
        "        # The model has 2 inputs (the coordinates of the point) and an output (the prediction)\n",
        "        self.l1 = nn.Linear(2, 5)\n",
        "        self.l2 = nn.Linear(5, 5)\n",
        "        self.l3 = nn.Linear(5,1)\n",
        "        \n",
        "    def forward(self, inputs):\n",
        "        # We want the model to predict 0 for one class and 1 for the other class\n",
        "        # A Sigmoid activation function seems appropriate\n",
        "        x = torch.tanh(self.l1(inputs))\n",
        "        y = torch.tanh(self.l2(x))\n",
        "        outputs = torch.tanh(self.l3(y))\n",
        "        return outputs"
      ],
      "execution_count": 0,
      "outputs": []
    },
    {
      "cell_type": "code",
      "metadata": {
        "id": "4gZqFySSmaCe",
        "colab_type": "code",
        "colab": {}
      },
      "source": [
        "# Create the model: \n",
        "model2 = Model2()\n",
        "\n",
        "# Choose the hyperparameters for training: \n",
        "num_epochs = 10\n",
        "batch_size = 10\n",
        "\n",
        "# Training criterion. This one is a mean squared error (MSE) loss between the output\n",
        "# of the network and the target label\n",
        "criterion = nn.MSELoss()\n",
        "\n",
        "# Use SGD optimizer with a learning rate of 0.01\n",
        "# It is initialized on our model\n",
        "optimizer = torch.optim.SGD(model2.parameters(), lr=0.01)"
      ],
      "execution_count": 0,
      "outputs": []
    },
    {
      "cell_type": "code",
      "metadata": {
        "id": "gHWy4jYm7MOe",
        "colab_type": "code",
        "outputId": "97137733-e385-47da-83dc-baeb0090c4aa",
        "colab": {
          "base_uri": "https://localhost:8080/",
          "height": 1000
        }
      },
      "source": [
        "batch = [5, 10, 20, 64, 100, 200, 256, 300]\n",
        "acc = []\n",
        "for b in batch:\n",
        "  batch_size = b\n",
        "  train_error2 = train(num_epochs, batch_size, criterion, optimizer, model2, training_set)\n",
        "  X_val, y_val = generate_data(1000)\n",
        "  model2.eval() # set the model to test mode\n",
        "  with torch.no_grad():\n",
        "    y_pre2 = model2(X_val).view(-1)\n",
        "  acc.append(accuracy(y_val, y_pre2))"
      ],
      "execution_count": 0,
      "outputs": [
        {
          "output_type": "stream",
          "text": [
            "Epoch [1/10], Loss: 0.2417\n",
            "Epoch [2/10], Loss: 0.2386\n",
            "Epoch [3/10], Loss: 0.2378\n",
            "Epoch [4/10], Loss: 0.2376\n",
            "Epoch [5/10], Loss: 0.2375\n",
            "Epoch [6/10], Loss: 0.2372\n",
            "Epoch [7/10], Loss: 0.2369\n",
            "Epoch [8/10], Loss: 0.2361\n",
            "Epoch [9/10], Loss: 0.2359\n",
            "Epoch [10/10], Loss: 0.2351\n",
            "Accuracy of the network on the 1000 validation data: 61.50 %\n",
            "Epoch [1/10], Loss: 0.2341\n",
            "Epoch [2/10], Loss: 0.2340\n",
            "Epoch [3/10], Loss: 0.2338\n",
            "Epoch [4/10], Loss: 0.2334\n",
            "Epoch [5/10], Loss: 0.2330\n",
            "Epoch [6/10], Loss: 0.2326\n",
            "Epoch [7/10], Loss: 0.2320\n",
            "Epoch [8/10], Loss: 0.2316\n",
            "Epoch [9/10], Loss: 0.2311\n",
            "Epoch [10/10], Loss: 0.2300\n",
            "Accuracy of the network on the 1000 validation data: 65.10 %\n",
            "Epoch [1/10], Loss: 0.2298\n",
            "Epoch [2/10], Loss: 0.2292\n",
            "Epoch [3/10], Loss: 0.2289\n",
            "Epoch [4/10], Loss: 0.2285\n",
            "Epoch [5/10], Loss: 0.2281\n",
            "Epoch [6/10], Loss: 0.2277\n",
            "Epoch [7/10], Loss: 0.2274\n",
            "Epoch [8/10], Loss: 0.2269\n",
            "Epoch [9/10], Loss: 0.2265\n",
            "Epoch [10/10], Loss: 0.2259\n",
            "Accuracy of the network on the 1000 validation data: 67.60 %\n",
            "Epoch [1/10], Loss: 0.2270\n",
            "Epoch [2/10], Loss: 0.2271\n",
            "Epoch [3/10], Loss: 0.2271\n",
            "Epoch [4/10], Loss: 0.2265\n",
            "Epoch [5/10], Loss: 0.2265\n",
            "Epoch [6/10], Loss: 0.2262\n",
            "Epoch [7/10], Loss: 0.2263\n",
            "Epoch [8/10], Loss: 0.2261\n",
            "Epoch [9/10], Loss: 0.2258\n",
            "Epoch [10/10], Loss: 0.2253\n",
            "Accuracy of the network on the 1000 validation data: 66.50 %\n",
            "Epoch [1/10], Loss: 0.2236\n",
            "Epoch [2/10], Loss: 0.2235\n",
            "Epoch [3/10], Loss: 0.2233\n",
            "Epoch [4/10], Loss: 0.2232\n",
            "Epoch [5/10], Loss: 0.2231\n",
            "Epoch [6/10], Loss: 0.2230\n",
            "Epoch [7/10], Loss: 0.2229\n",
            "Epoch [8/10], Loss: 0.2228\n",
            "Epoch [9/10], Loss: 0.2227\n",
            "Epoch [10/10], Loss: 0.2225\n",
            "Accuracy of the network on the 1000 validation data: 65.50 %\n",
            "Epoch [1/10], Loss: 0.2224\n",
            "Epoch [2/10], Loss: 0.2223\n",
            "Epoch [3/10], Loss: 0.2223\n",
            "Epoch [4/10], Loss: 0.2222\n",
            "Epoch [5/10], Loss: 0.2221\n",
            "Epoch [6/10], Loss: 0.2221\n",
            "Epoch [7/10], Loss: 0.2220\n",
            "Epoch [8/10], Loss: 0.2220\n",
            "Epoch [9/10], Loss: 0.2219\n",
            "Epoch [10/10], Loss: 0.2218\n",
            "Accuracy of the network on the 1000 validation data: 67.30 %\n",
            "Epoch [1/10], Loss: 0.2274\n",
            "Epoch [2/10], Loss: 0.2270\n",
            "Epoch [3/10], Loss: 0.2271\n",
            "Epoch [4/10], Loss: 0.2268\n",
            "Epoch [5/10], Loss: 0.2265\n",
            "Epoch [6/10], Loss: 0.2269\n",
            "Epoch [7/10], Loss: 0.2266\n",
            "Epoch [8/10], Loss: 0.2266\n",
            "Epoch [9/10], Loss: 0.2268\n",
            "Epoch [10/10], Loss: 0.2269\n",
            "Accuracy of the network on the 1000 validation data: 69.10 %\n",
            "Epoch [1/10], Loss: 0.2317\n",
            "Epoch [2/10], Loss: 0.2311\n",
            "Epoch [3/10], Loss: 0.2305\n",
            "Epoch [4/10], Loss: 0.2330\n",
            "Epoch [5/10], Loss: 0.2318\n",
            "Epoch [6/10], Loss: 0.2316\n",
            "Epoch [7/10], Loss: 0.2324\n",
            "Epoch [8/10], Loss: 0.2313\n",
            "Epoch [9/10], Loss: 0.2323\n",
            "Epoch [10/10], Loss: 0.2325\n",
            "Accuracy of the network on the 1000 validation data: 67.80 %\n"
          ],
          "name": "stdout"
        }
      ]
    },
    {
      "cell_type": "code",
      "metadata": {
        "id": "4-qc_qCo9Q1Y",
        "colab_type": "code",
        "outputId": "44d8c123-f23e-4303-fb5b-f816e438eefa",
        "colab": {
          "base_uri": "https://localhost:8080/",
          "height": 332
        }
      },
      "source": [
        "acc = [61.50,65.10,67.60,66.50,65.50,67.30,69.10,67.8]\n",
        "plt.plot(batch, acc)\n",
        "plt.xlabel(\"Batch size\")\n",
        "plt.ylabel(\"Accuracy\")\n",
        "plt.title(\"Impact of Batch size\")"
      ],
      "execution_count": 0,
      "outputs": [
        {
          "output_type": "execute_result",
          "data": {
            "text/plain": [
              "Text(0.5, 1.0, 'Impact of Batch size')"
            ]
          },
          "metadata": {
            "tags": []
          },
          "execution_count": 32
        },
        {
          "output_type": "display_data",
          "data": {
            "image/png": "[encoded data removed]",
            "text/plain": [
              "<Figure size 432x288 with 1 Axes>"
            ]
          },
          "metadata": {
            "tags": []
          }
        }
      ]
    },
    {
      "cell_type": "code",
      "metadata": {
        "id": "lPPcGbh0mggs",
        "colab_type": "code",
        "outputId": "977f6726-b24b-49c6-a838-c9b6cae6b78d",
        "colab": {
          "base_uri": "https://localhost:8080/",
          "height": 203
        }
      },
      "source": [
        "train_error2 = train(num_epochs, batch_size, criterion, optimizer, model2, training_set)"
      ],
      "execution_count": 0,
      "outputs": [
        {
          "output_type": "stream",
          "text": [
            "Epoch [1/10], Loss: 0.2587\n",
            "Epoch [2/10], Loss: 0.2394\n",
            "Epoch [3/10], Loss: 0.2384\n",
            "Epoch [4/10], Loss: 0.2371\n",
            "Epoch [5/10], Loss: 0.2360\n",
            "Epoch [6/10], Loss: 0.2348\n",
            "Epoch [7/10], Loss: 0.2342\n",
            "Epoch [8/10], Loss: 0.2334\n",
            "Epoch [9/10], Loss: 0.2326\n",
            "Epoch [10/10], Loss: 0.2321\n"
          ],
          "name": "stdout"
        }
      ]
    },
    {
      "cell_type": "code",
      "metadata": {
        "id": "aOfo0jqfAeCt",
        "colab_type": "code",
        "outputId": "bc40dd13-953e-4d15-b189-58bc61afbbc2",
        "colab": {
          "base_uri": "https://localhost:8080/",
          "height": 54
        }
      },
      "source": [
        "len(train_error)"
      ],
      "execution_count": 0,
      "outputs": [
        {
          "output_type": "execute_result",
          "data": {
            "text/plain": [
              "10"
            ]
          },
          "metadata": {
            "tags": []
          },
          "execution_count": 43
        }
      ]
    },
    {
      "cell_type": "code",
      "metadata": {
        "id": "HRjyTUUZABTu",
        "colab_type": "code",
        "outputId": "1ff70bb0-471d-455a-b20a-4d3165bba6bd",
        "colab": {
          "base_uri": "https://localhost:8080/",
          "height": 333
        }
      },
      "source": [
        "# plot the training error wrt. the number of epochs: \n",
        "plt.plot(range(1, num_epochs+1), train_error2)\n",
        "plt.xlabel(\"num_epochs\")\n",
        "plt.ylabel(\"Train error\")\n",
        "plt.title(\"Visualization of convergence\")"
      ],
      "execution_count": 0,
      "outputs": [
        {
          "output_type": "execute_result",
          "data": {
            "text/plain": [
              "Text(0.5, 1.0, 'Visualization of convergence')"
            ]
          },
          "metadata": {
            "tags": []
          },
          "execution_count": 48
        },
        {
          "output_type": "display_data",
          "data": {
            "image/png": "[encoded data removed]",
            "text/plain": [
              "<Figure size 432x288 with 1 Axes>"
            ]
          },
          "metadata": {
            "tags": []
          }
        }
      ]
    },
    {
      "cell_type": "code",
      "metadata": {
        "id": "7vseOhtymrgb",
        "colab_type": "code",
        "outputId": "99c4bbf7-0933-43e5-f998-bdf19fdf86c3",
        "colab": {
          "base_uri": "https://localhost:8080/",
          "height": 54
        }
      },
      "source": [
        "# Generate 1000 validation data:\n",
        "X_val, y_val = generate_data(1000)\n",
        "\n",
        "# predict labels for validation set\n",
        "model2.eval() # set the model to test mode\n",
        "with torch.no_grad():\n",
        "    y_pre2 = model2(X_val).view(-1)\n",
        "\n",
        "accuracy(y_val, y_pre2)"
      ],
      "execution_count": 0,
      "outputs": [
        {
          "output_type": "stream",
          "text": [
            "Accuracy of the network on the 1000 validation data: 62.90 %\n"
          ],
          "name": "stdout"
        }
      ]
    },
    {
      "cell_type": "markdown",
      "metadata": {
        "id": "lLbQjtl9iM_G",
        "colab_type": "text"
      },
      "source": [
        "### Exercice 2: Impact of the optimizer\n",
        "\n",
        "Retrain the model by using different parameters of the optimizer, you can change its parameter in the cell initializing it, after the definition of your model.\n",
        "\n",
        "* Use different batch size from 10 to 400\n",
        "* Try different values of the learning rate (between 0.001 and 10), and see how these impact the trainig process. Do all network architectures react the same way to different learning rates?\n",
        "* Change the duration of the training by increasing the number of epochs\n",
        "* Try other optimizers, such as [Adam](https://pytorch.org/docs/stable/optim.html?highlight=adam#torch.optim.Adam) or [RMSprop](https://pytorch.org/docs/stable/optim.html?highlight=rmsprop#torch.optim.RMSprop)\n",
        "\n",
        "**Note:** These changes may interact with your previous choices of architectures, and you may need to change them as well!"
      ]
    },
    {
      "cell_type": "code",
      "metadata": {
        "id": "K4KiiZIaqTm0",
        "colab_type": "code",
        "colab": {}
      },
      "source": [
        "# Create the model: \n",
        "model2 = Model2()\n",
        "\n",
        "# Choose the hyperparameters for training: \n",
        "num_epochs = 300\n",
        "batch_size = 200\n",
        "\n",
        "# Training criterion. This one is a mean squared error (MSE) loss between the output\n",
        "# of the network and the target label\n",
        "criterion = nn.MSELoss()\n",
        "\n",
        "# Use SGD optimizer with a learning rate of 0.01\n",
        "# It is initialized on our model\n",
        "optimizer = torch.optim.Adam(model2.parameters(), lr=0.01)"
      ],
      "execution_count": 0,
      "outputs": []
    },
    {
      "cell_type": "code",
      "metadata": {
        "id": "jgoil9wO3iDM",
        "colab_type": "code",
        "outputId": "bd8218d9-55ed-4ff4-cfa8-ecd66964be38",
        "colab": {
          "base_uri": "https://localhost:8080/",
          "height": 1000
        }
      },
      "source": [
        "train_error2 = train(num_epochs, batch_size, criterion, optimizer, model2, training_set)\n",
        "# Generate 1000 validation data:\n",
        "X_val, y_val = generate_data(1000)\n",
        "\n",
        "# predict labels for validation set\n",
        "model2.eval() # set the model to test mode\n",
        "with torch.no_grad():\n",
        "    y_pre2 = model2(X_val).view(-1)\n",
        "\n",
        "accuracy(y_val, y_pre2)"
      ],
      "execution_count": 0,
      "outputs": [
        {
          "output_type": "stream",
          "text": [
            "Epoch [1/300], Loss: 0.5717\n",
            "Epoch [2/300], Loss: 0.2563\n",
            "Epoch [3/300], Loss: 0.2439\n",
            "Epoch [4/300], Loss: 0.2363\n",
            "Epoch [5/300], Loss: 0.2335\n",
            "Epoch [6/300], Loss: 0.2325\n",
            "Epoch [7/300], Loss: 0.2318\n",
            "Epoch [8/300], Loss: 0.2315\n",
            "Epoch [9/300], Loss: 0.2309\n",
            "Epoch [10/300], Loss: 0.2301\n",
            "Epoch [11/300], Loss: 0.2302\n",
            "Epoch [12/300], Loss: 0.2295\n",
            "Epoch [13/300], Loss: 0.2292\n",
            "Epoch [14/300], Loss: 0.2288\n",
            "Epoch [15/300], Loss: 0.2279\n",
            "Epoch [16/300], Loss: 0.2273\n",
            "Epoch [17/300], Loss: 0.2266\n",
            "Epoch [18/300], Loss: 0.2267\n",
            "Epoch [19/300], Loss: 0.2251\n",
            "Epoch [20/300], Loss: 0.2238\n",
            "Epoch [21/300], Loss: 0.2227\n",
            "Epoch [22/300], Loss: 0.2216\n",
            "Epoch [23/300], Loss: 0.2204\n",
            "Epoch [24/300], Loss: 0.2191\n",
            "Epoch [25/300], Loss: 0.2174\n",
            "Epoch [26/300], Loss: 0.2164\n",
            "Epoch [27/300], Loss: 0.2147\n",
            "Epoch [28/300], Loss: 0.2125\n",
            "Epoch [29/300], Loss: 0.2111\n",
            "Epoch [30/300], Loss: 0.2094\n",
            "Epoch [31/300], Loss: 0.2080\n",
            "Epoch [32/300], Loss: 0.2065\n",
            "Epoch [33/300], Loss: 0.2044\n",
            "Epoch [34/300], Loss: 0.2021\n",
            "Epoch [35/300], Loss: 0.2002\n",
            "Epoch [36/300], Loss: 0.1982\n",
            "Epoch [37/300], Loss: 0.1958\n",
            "Epoch [38/300], Loss: 0.1936\n",
            "Epoch [39/300], Loss: 0.1927\n",
            "Epoch [40/300], Loss: 0.1907\n",
            "Epoch [41/300], Loss: 0.1886\n",
            "Epoch [42/300], Loss: 0.1865\n",
            "Epoch [43/300], Loss: 0.1841\n",
            "Epoch [44/300], Loss: 0.1816\n",
            "Epoch [45/300], Loss: 0.1806\n",
            "Epoch [46/300], Loss: 0.1782\n",
            "Epoch [47/300], Loss: 0.1760\n",
            "Epoch [48/300], Loss: 0.1745\n",
            "Epoch [49/300], Loss: 0.1728\n",
            "Epoch [50/300], Loss: 0.1714\n",
            "Epoch [51/300], Loss: 0.1707\n",
            "Epoch [52/300], Loss: 0.1704\n",
            "Epoch [53/300], Loss: 0.1710\n",
            "Epoch [54/300], Loss: 0.1670\n",
            "Epoch [55/300], Loss: 0.1657\n",
            "Epoch [56/300], Loss: 0.1652\n",
            "Epoch [57/300], Loss: 0.1646\n",
            "Epoch [58/300], Loss: 0.1634\n",
            "Epoch [59/300], Loss: 0.1621\n",
            "Epoch [60/300], Loss: 0.1604\n",
            "Epoch [61/300], Loss: 0.1592\n",
            "Epoch [62/300], Loss: 0.1582\n",
            "Epoch [63/300], Loss: 0.1581\n",
            "Epoch [64/300], Loss: 0.1569\n",
            "Epoch [65/300], Loss: 0.1558\n",
            "Epoch [66/300], Loss: 0.1548\n",
            "Epoch [67/300], Loss: 0.1537\n",
            "Epoch [68/300], Loss: 0.1533\n",
            "Epoch [69/300], Loss: 0.1527\n",
            "Epoch [70/300], Loss: 0.1513\n",
            "Epoch [71/300], Loss: 0.1480\n",
            "Epoch [72/300], Loss: 0.1462\n",
            "Epoch [73/300], Loss: 0.1453\n",
            "Epoch [74/300], Loss: 0.1448\n",
            "Epoch [75/300], Loss: 0.1436\n",
            "Epoch [76/300], Loss: 0.1432\n",
            "Epoch [77/300], Loss: 0.1421\n",
            "Epoch [78/300], Loss: 0.1425\n",
            "Epoch [79/300], Loss: 0.1414\n",
            "Epoch [80/300], Loss: 0.1409\n",
            "Epoch [81/300], Loss: 0.1413\n",
            "Epoch [82/300], Loss: 0.1410\n",
            "Epoch [83/300], Loss: 0.1407\n",
            "Epoch [84/300], Loss: 0.1412\n",
            "Epoch [85/300], Loss: 0.1387\n",
            "Epoch [86/300], Loss: 0.1392\n",
            "Epoch [87/300], Loss: 0.1403\n",
            "Epoch [88/300], Loss: 0.1395\n",
            "Epoch [89/300], Loss: 0.1386\n",
            "Epoch [90/300], Loss: 0.1387\n",
            "Epoch [91/300], Loss: 0.1376\n",
            "Epoch [92/300], Loss: 0.1377\n",
            "Epoch [93/300], Loss: 0.1382\n",
            "Epoch [94/300], Loss: 0.1393\n",
            "Epoch [95/300], Loss: 0.1373\n",
            "Epoch [96/300], Loss: 0.1365\n",
            "Epoch [97/300], Loss: 0.1365\n",
            "Epoch [98/300], Loss: 0.1367\n",
            "Epoch [99/300], Loss: 0.1352\n",
            "Epoch [100/300], Loss: 0.1349\n",
            "Epoch [101/300], Loss: 0.1365\n",
            "Epoch [102/300], Loss: 0.1354\n",
            "Epoch [103/300], Loss: 0.1355\n",
            "Epoch [104/300], Loss: 0.1338\n",
            "Epoch [105/300], Loss: 0.1333\n",
            "Epoch [106/300], Loss: 0.1325\n",
            "Epoch [107/300], Loss: 0.1343\n",
            "Epoch [108/300], Loss: 0.1331\n",
            "Epoch [109/300], Loss: 0.1331\n",
            "Epoch [110/300], Loss: 0.1318\n",
            "Epoch [111/300], Loss: 0.1307\n",
            "Epoch [112/300], Loss: 0.1304\n",
            "Epoch [113/300], Loss: 0.1295\n",
            "Epoch [114/300], Loss: 0.1281\n",
            "Epoch [115/300], Loss: 0.1275\n",
            "Epoch [116/300], Loss: 0.1266\n",
            "Epoch [117/300], Loss: 0.1247\n",
            "Epoch [118/300], Loss: 0.1249\n",
            "Epoch [119/300], Loss: 0.1225\n",
            "Epoch [120/300], Loss: 0.1196\n",
            "Epoch [121/300], Loss: 0.1182\n",
            "Epoch [122/300], Loss: 0.1148\n",
            "Epoch [123/300], Loss: 0.1122\n",
            "Epoch [124/300], Loss: 0.1109\n",
            "Epoch [125/300], Loss: 0.1107\n",
            "Epoch [126/300], Loss: 0.1067\n",
            "Epoch [127/300], Loss: 0.1059\n",
            "Epoch [128/300], Loss: 0.1047\n",
            "Epoch [129/300], Loss: 0.1035\n",
            "Epoch [130/300], Loss: 0.1041\n",
            "Epoch [131/300], Loss: 0.1006\n",
            "Epoch [132/300], Loss: 0.0996\n",
            "Epoch [133/300], Loss: 0.0984\n",
            "Epoch [134/300], Loss: 0.0961\n",
            "Epoch [135/300], Loss: 0.0958\n",
            "Epoch [136/300], Loss: 0.0955\n",
            "Epoch [137/300], Loss: 0.0947\n",
            "Epoch [138/300], Loss: 0.0974\n",
            "Epoch [139/300], Loss: 0.0924\n",
            "Epoch [140/300], Loss: 0.0914\n",
            "Epoch [141/300], Loss: 0.0879\n",
            "Epoch [142/300], Loss: 0.0865\n",
            "Epoch [143/300], Loss: 0.0839\n",
            "Epoch [144/300], Loss: 0.0816\n",
            "Epoch [145/300], Loss: 0.0793\n",
            "Epoch [146/300], Loss: 0.0778\n",
            "Epoch [147/300], Loss: 0.0767\n",
            "Epoch [148/300], Loss: 0.0758\n",
            "Epoch [149/300], Loss: 0.0755\n",
            "Epoch [150/300], Loss: 0.0727\n",
            "Epoch [151/300], Loss: 0.0721\n",
            "Epoch [152/300], Loss: 0.0714\n",
            "Epoch [153/300], Loss: 0.0712\n",
            "Epoch [154/300], Loss: 0.0713\n",
            "Epoch [155/300], Loss: 0.0691\n",
            "Epoch [156/300], Loss: 0.0695\n",
            "Epoch [157/300], Loss: 0.0698\n",
            "Epoch [158/300], Loss: 0.0675\n",
            "Epoch [159/300], Loss: 0.0659\n",
            "Epoch [160/300], Loss: 0.0663\n",
            "Epoch [161/300], Loss: 0.0650\n",
            "Epoch [162/300], Loss: 0.0652\n",
            "Epoch [163/300], Loss: 0.0639\n",
            "Epoch [164/300], Loss: 0.0633\n",
            "Epoch [165/300], Loss: 0.0615\n",
            "Epoch [166/300], Loss: 0.0614\n",
            "Epoch [167/300], Loss: 0.0621\n",
            "Epoch [168/300], Loss: 0.0603\n",
            "Epoch [169/300], Loss: 0.0603\n",
            "Epoch [170/300], Loss: 0.0599\n",
            "Epoch [171/300], Loss: 0.0578\n",
            "Epoch [172/300], Loss: 0.0573\n",
            "Epoch [173/300], Loss: 0.0569\n",
            "Epoch [174/300], Loss: 0.0572\n",
            "Epoch [175/300], Loss: 0.0572\n",
            "Epoch [176/300], Loss: 0.0562\n",
            "Epoch [177/300], Loss: 0.0562\n",
            "Epoch [178/300], Loss: 0.0572\n",
            "Epoch [179/300], Loss: 0.0553\n",
            "Epoch [180/300], Loss: 0.0545\n",
            "Epoch [181/300], Loss: 0.0552\n",
            "Epoch [182/300], Loss: 0.0539\n",
            "Epoch [183/300], Loss: 0.0543\n",
            "Epoch [184/300], Loss: 0.0544\n",
            "Epoch [185/300], Loss: 0.0533\n",
            "Epoch [186/300], Loss: 0.0540\n",
            "Epoch [187/300], Loss: 0.0521\n",
            "Epoch [188/300], Loss: 0.0520\n",
            "Epoch [189/300], Loss: 0.0521\n",
            "Epoch [190/300], Loss: 0.0520\n",
            "Epoch [191/300], Loss: 0.0525\n",
            "Epoch [192/300], Loss: 0.0519\n",
            "Epoch [193/300], Loss: 0.0516\n",
            "Epoch [194/300], Loss: 0.0506\n",
            "Epoch [195/300], Loss: 0.0503\n",
            "Epoch [196/300], Loss: 0.0503\n",
            "Epoch [197/300], Loss: 0.0497\n",
            "Epoch [198/300], Loss: 0.0507\n",
            "Epoch [199/300], Loss: 0.0504\n",
            "Epoch [200/300], Loss: 0.0507\n",
            "Epoch [201/300], Loss: 0.0503\n",
            "Epoch [202/300], Loss: 0.0494\n",
            "Epoch [203/300], Loss: 0.0493\n",
            "Epoch [204/300], Loss: 0.0492\n",
            "Epoch [205/300], Loss: 0.0491\n",
            "Epoch [206/300], Loss: 0.0493\n",
            "Epoch [207/300], Loss: 0.0496\n",
            "Epoch [208/300], Loss: 0.0495\n",
            "Epoch [209/300], Loss: 0.0479\n",
            "Epoch [210/300], Loss: 0.0476\n",
            "Epoch [211/300], Loss: 0.0472\n",
            "Epoch [212/300], Loss: 0.0475\n",
            "Epoch [213/300], Loss: 0.0482\n",
            "Epoch [214/300], Loss: 0.0476\n",
            "Epoch [215/300], Loss: 0.0464\n",
            "Epoch [216/300], Loss: 0.0452\n",
            "Epoch [217/300], Loss: 0.0451\n",
            "Epoch [218/300], Loss: 0.0448\n",
            "Epoch [219/300], Loss: 0.0445\n",
            "Epoch [220/300], Loss: 0.0454\n",
            "Epoch [221/300], Loss: 0.0437\n",
            "Epoch [222/300], Loss: 0.0437\n",
            "Epoch [223/300], Loss: 0.0433\n",
            "Epoch [224/300], Loss: 0.0433\n",
            "Epoch [225/300], Loss: 0.0437\n",
            "Epoch [226/300], Loss: 0.0424\n",
            "Epoch [227/300], Loss: 0.0426\n",
            "Epoch [228/300], Loss: 0.0429\n",
            "Epoch [229/300], Loss: 0.0439\n",
            "Epoch [230/300], Loss: 0.0425\n",
            "Epoch [231/300], Loss: 0.0429\n",
            "Epoch [232/300], Loss: 0.0429\n",
            "Epoch [233/300], Loss: 0.0424\n",
            "Epoch [234/300], Loss: 0.0424\n",
            "Epoch [235/300], Loss: 0.0409\n",
            "Epoch [236/300], Loss: 0.0417\n",
            "Epoch [237/300], Loss: 0.0413\n",
            "Epoch [238/300], Loss: 0.0410\n",
            "Epoch [239/300], Loss: 0.0417\n",
            "Epoch [240/300], Loss: 0.0409\n",
            "Epoch [241/300], Loss: 0.0405\n",
            "Epoch [242/300], Loss: 0.0405\n",
            "Epoch [243/300], Loss: 0.0410\n",
            "Epoch [244/300], Loss: 0.0403\n",
            "Epoch [245/300], Loss: 0.0402\n",
            "Epoch [246/300], Loss: 0.0404\n",
            "Epoch [247/300], Loss: 0.0408\n",
            "Epoch [248/300], Loss: 0.0399\n",
            "Epoch [249/300], Loss: 0.0411\n",
            "Epoch [250/300], Loss: 0.0402\n",
            "Epoch [251/300], Loss: 0.0395\n",
            "Epoch [252/300], Loss: 0.0403\n",
            "Epoch [253/300], Loss: 0.0396\n",
            "Epoch [254/300], Loss: 0.0394\n",
            "Epoch [255/300], Loss: 0.0394\n",
            "Epoch [256/300], Loss: 0.0391\n",
            "Epoch [257/300], Loss: 0.0391\n",
            "Epoch [258/300], Loss: 0.0396\n",
            "Epoch [259/300], Loss: 0.0393\n",
            "Epoch [260/300], Loss: 0.0387\n",
            "Epoch [261/300], Loss: 0.0393\n",
            "Epoch [262/300], Loss: 0.0411\n",
            "Epoch [263/300], Loss: 0.0400\n",
            "Epoch [264/300], Loss: 0.0390\n",
            "Epoch [265/300], Loss: 0.0390\n",
            "Epoch [266/300], Loss: 0.0385\n",
            "Epoch [267/300], Loss: 0.0393\n",
            "Epoch [268/300], Loss: 0.0388\n",
            "Epoch [269/300], Loss: 0.0390\n",
            "Epoch [270/300], Loss: 0.0382\n",
            "Epoch [271/300], Loss: 0.0377\n",
            "Epoch [272/300], Loss: 0.0375\n",
            "Epoch [273/300], Loss: 0.0375\n",
            "Epoch [274/300], Loss: 0.0382\n",
            "Epoch [275/300], Loss: 0.0384\n",
            "Epoch [276/300], Loss: 0.0378\n",
            "Epoch [277/300], Loss: 0.0376\n",
            "Epoch [278/300], Loss: 0.0385\n",
            "Epoch [279/300], Loss: 0.0384\n",
            "Epoch [280/300], Loss: 0.0375\n",
            "Epoch [281/300], Loss: 0.0377\n",
            "Epoch [282/300], Loss: 0.0383\n",
            "Epoch [283/300], Loss: 0.0377\n",
            "Epoch [284/300], Loss: 0.0379\n",
            "Epoch [285/300], Loss: 0.0374\n",
            "Epoch [286/300], Loss: 0.0375\n",
            "Epoch [287/300], Loss: 0.0374\n",
            "Epoch [288/300], Loss: 0.0378\n",
            "Epoch [289/300], Loss: 0.0371\n",
            "Epoch [290/300], Loss: 0.0373\n",
            "Epoch [291/300], Loss: 0.0377\n",
            "Epoch [292/300], Loss: 0.0373\n",
            "Epoch [293/300], Loss: 0.0375\n",
            "Epoch [294/300], Loss: 0.0371\n",
            "Epoch [295/300], Loss: 0.0372\n",
            "Epoch [296/300], Loss: 0.0373\n",
            "Epoch [297/300], Loss: 0.0369\n",
            "Epoch [298/300], Loss: 0.0368\n",
            "Epoch [299/300], Loss: 0.0373\n",
            "Epoch [300/300], Loss: 0.0382\n",
            "Accuracy of the network on the 1000 validation data: 95.50 %\n"
          ],
          "name": "stdout"
        }
      ]
    },
    {
      "cell_type": "markdown",
      "metadata": {
        "id": "6VnZco9giM_G",
        "colab_type": "text"
      },
      "source": [
        "### Exercice 3: Impact of the loss function\n",
        "\n",
        "The current model uses a mean square error (MSE) loss. While this loss can be used in this case, it is now rarely used for classification, and instead a Binary Cross Entropy (BCE) is used. It consists in interpreting the output of the network as the probability $p(y | x)$ of the point $x$ to belong to the class $y$, and in maximizing the probability to be correct for all samples $x$, that is, in maximizing $\\displaystyle \\prod_{(x,y) \\in Dataset} p(y|x)$. Applying $-\\log$ to this quantity, we obtain the following criterion to minimize:\n",
        "\n",
        "$$ \\sum_{(x,y) \\in Dataset} - \\log p(y | x) $$\n",
        "\n",
        "This is implemented as such by the [BCELoss](https://pytorch.org/docs/stable/nn.html?highlight=bce#torch.nn.BCELoss) of pytorch. Note that this criterion requires its input to be a probability, i.e. in $[0,1]$, which requires the use of an appropriate activation function beforehand, e.g., a sigmoid.\n",
        "\n",
        "It turns out that, for numerical stability reasons, it is better to incorporate this sigmoid and the BCELoss into a single function; this is done by the [BCEWithLogitsLoss](https://pytorch.org/docs/stable/nn.html?highlight=bcewithlogit#torch.nn.BCEWithLogitsLoss). Try to replace the MSE by this one and see how this changes the behavior in the network. This can also interact with the changes of the two previous exercices.\n",
        "\n",
        "**Note:** As a consequence, when using the BCEWithLogitsLoss, the last layer of your network should not be followed by an activation function, as BCEWithLogitsLoss already adds a sigmoid."
      ]
    },
    {
      "cell_type": "code",
      "metadata": {
        "id": "r-CcbUW_9yjc",
        "colab_type": "code",
        "colab": {}
      },
      "source": [
        "class Model3(nn.Module):\n",
        "    \n",
        "    def __init__(self):\n",
        "        super(Model3, self).__init__()\n",
        "        # A single linear layer\n",
        "        # The model has 2 inputs (the coordinates of the point) and an output (the prediction)\n",
        "        self.l1 = nn.Linear(2, 10)\n",
        "        self.l2 = nn.Linear(10, 10)\n",
        "        self.l3 = nn.Linear(10,1)\n",
        "        \n",
        "    def forward(self, inputs):\n",
        "        # We want the model to predict 0 for one class and 1 for the other class\n",
        "        # A Sigmoid activation function seems appropriate\n",
        "        x = torch.relu(self.l1(inputs))\n",
        "        y = torch.relu(self.l2(x))\n",
        "        outputs = self.l3(y)\n",
        "        return outputs"
      ],
      "execution_count": 0,
      "outputs": []
    },
    {
      "cell_type": "code",
      "metadata": {
        "id": "_Am2j-it95s7",
        "colab_type": "code",
        "colab": {}
      },
      "source": [
        "# Create the model: \n",
        "model3 = Model3()\n",
        "\n",
        "# Choose the hyperparameters for training: \n",
        "num_epochs = 200\n",
        "batch_size = 200\n",
        "\n",
        "# Training criterion. This one is a mean squared error (MSE) loss between the output\n",
        "# of the network and the target label\n",
        "criterion = nn.BCEWithLogitsLoss()\n",
        "\n",
        "# Use SGD optimizer with a learning rate of 0.01\n",
        "# It is initialized on our model\n",
        "optimizer = torch.optim.Adam(model3.parameters(), lr=0.01)"
      ],
      "execution_count": 0,
      "outputs": []
    },
    {
      "cell_type": "code",
      "metadata": {
        "id": "3ImRGB_--CFK",
        "colab_type": "code",
        "outputId": "5646b543-cc4d-4fdf-b40d-ac5164bf7c93",
        "colab": {
          "base_uri": "https://localhost:8080/",
          "height": 1000
        }
      },
      "source": [
        "train_error3 = train(num_epochs, batch_size, criterion, optimizer, model3, training_set)\n",
        "# Generate 1000 validation data:\n",
        "X_val, y_val = generate_data(1000)\n",
        "\n",
        "# predict labels for validation set\n",
        "model3.eval() # set the model to test mode\n",
        "with torch.no_grad():\n",
        "    y_pre3 = model3(X_val).view(-1)\n",
        "\n",
        "accuracy(y_val, y_pre3)"
      ],
      "execution_count": 0,
      "outputs": [
        {
          "output_type": "stream",
          "text": [
            "Epoch [1/200], Loss: 0.6769\n",
            "Epoch [2/200], Loss: 0.6553\n",
            "Epoch [3/200], Loss: 0.6379\n",
            "Epoch [4/200], Loss: 0.6101\n",
            "Epoch [5/200], Loss: 0.5740\n",
            "Epoch [6/200], Loss: 0.5298\n",
            "Epoch [7/200], Loss: 0.4763\n",
            "Epoch [8/200], Loss: 0.4205\n",
            "Epoch [9/200], Loss: 0.3592\n",
            "Epoch [10/200], Loss: 0.2831\n",
            "Epoch [11/200], Loss: 0.2136\n",
            "Epoch [12/200], Loss: 0.1527\n",
            "Epoch [13/200], Loss: 0.1107\n",
            "Epoch [14/200], Loss: 0.0834\n",
            "Epoch [15/200], Loss: 0.0645\n",
            "Epoch [16/200], Loss: 0.0526\n",
            "Epoch [17/200], Loss: 0.0437\n",
            "Epoch [18/200], Loss: 0.0348\n",
            "Epoch [19/200], Loss: 0.0291\n",
            "Epoch [20/200], Loss: 0.0249\n",
            "Epoch [21/200], Loss: 0.0221\n",
            "Epoch [22/200], Loss: 0.0198\n",
            "Epoch [23/200], Loss: 0.0168\n",
            "Epoch [24/200], Loss: 0.0160\n",
            "Epoch [25/200], Loss: 0.0148\n",
            "Epoch [26/200], Loss: 0.0127\n",
            "Epoch [27/200], Loss: 0.0116\n",
            "Epoch [28/200], Loss: 0.0103\n",
            "Epoch [29/200], Loss: 0.0090\n",
            "Epoch [30/200], Loss: 0.0084\n",
            "Epoch [31/200], Loss: 0.0082\n",
            "Epoch [32/200], Loss: 0.0075\n",
            "Epoch [33/200], Loss: 0.0065\n",
            "Epoch [34/200], Loss: 0.0063\n",
            "Epoch [35/200], Loss: 0.0059\n",
            "Epoch [36/200], Loss: 0.0060\n",
            "Epoch [37/200], Loss: 0.0055\n",
            "Epoch [38/200], Loss: 0.0049\n",
            "Epoch [39/200], Loss: 0.0045\n",
            "Epoch [40/200], Loss: 0.0043\n",
            "Epoch [41/200], Loss: 0.0042\n",
            "Epoch [42/200], Loss: 0.0041\n",
            "Epoch [43/200], Loss: 0.0036\n",
            "Epoch [44/200], Loss: 0.0035\n",
            "Epoch [45/200], Loss: 0.0035\n",
            "Epoch [46/200], Loss: 0.0031\n",
            "Epoch [47/200], Loss: 0.0031\n",
            "Epoch [48/200], Loss: 0.0027\n",
            "Epoch [49/200], Loss: 0.0026\n",
            "Epoch [50/200], Loss: 0.0027\n",
            "Epoch [51/200], Loss: 0.0026\n",
            "Epoch [52/200], Loss: 0.0023\n",
            "Epoch [53/200], Loss: 0.0021\n",
            "Epoch [54/200], Loss: 0.0021\n",
            "Epoch [55/200], Loss: 0.0021\n",
            "Epoch [56/200], Loss: 0.0025\n",
            "Epoch [57/200], Loss: 0.0020\n",
            "Epoch [58/200], Loss: 0.0018\n",
            "Epoch [59/200], Loss: 0.0017\n",
            "Epoch [60/200], Loss: 0.0017\n",
            "Epoch [61/200], Loss: 0.0016\n",
            "Epoch [62/200], Loss: 0.0015\n",
            "Epoch [63/200], Loss: 0.0015\n",
            "Epoch [64/200], Loss: 0.0015\n",
            "Epoch [65/200], Loss: 0.0014\n",
            "Epoch [66/200], Loss: 0.0013\n",
            "Epoch [67/200], Loss: 0.0013\n",
            "Epoch [68/200], Loss: 0.0012\n",
            "Epoch [69/200], Loss: 0.0011\n",
            "Epoch [70/200], Loss: 0.0012\n",
            "Epoch [71/200], Loss: 0.0012\n",
            "Epoch [72/200], Loss: 0.0011\n",
            "Epoch [73/200], Loss: 0.0011\n",
            "Epoch [74/200], Loss: 0.0010\n",
            "Epoch [75/200], Loss: 0.0010\n",
            "Epoch [76/200], Loss: 0.0010\n",
            "Epoch [77/200], Loss: 0.0010\n",
            "Epoch [78/200], Loss: 0.0010\n",
            "Epoch [79/200], Loss: 0.0009\n",
            "Epoch [80/200], Loss: 0.0009\n",
            "Epoch [81/200], Loss: 0.0009\n",
            "Epoch [82/200], Loss: 0.0009\n",
            "Epoch [83/200], Loss: 0.0009\n",
            "Epoch [84/200], Loss: 0.0009\n",
            "Epoch [85/200], Loss: 0.0008\n",
            "Epoch [86/200], Loss: 0.0008\n",
            "Epoch [87/200], Loss: 0.0007\n",
            "Epoch [88/200], Loss: 0.0007\n",
            "Epoch [89/200], Loss: 0.0006\n",
            "Epoch [90/200], Loss: 0.0007\n",
            "Epoch [91/200], Loss: 0.0008\n",
            "Epoch [92/200], Loss: 0.0007\n",
            "Epoch [93/200], Loss: 0.0006\n",
            "Epoch [94/200], Loss: 0.0006\n",
            "Epoch [95/200], Loss: 0.0006\n",
            "Epoch [96/200], Loss: 0.0006\n",
            "Epoch [97/200], Loss: 0.0006\n",
            "Epoch [98/200], Loss: 0.0005\n",
            "Epoch [99/200], Loss: 0.0005\n",
            "Epoch [100/200], Loss: 0.0005\n",
            "Epoch [101/200], Loss: 0.0005\n",
            "Epoch [102/200], Loss: 0.0005\n",
            "Epoch [103/200], Loss: 0.0005\n",
            "Epoch [104/200], Loss: 0.0005\n",
            "Epoch [105/200], Loss: 0.0005\n",
            "Epoch [106/200], Loss: 0.0004\n",
            "Epoch [107/200], Loss: 0.0004\n",
            "Epoch [108/200], Loss: 0.0004\n",
            "Epoch [109/200], Loss: 0.0004\n",
            "Epoch [110/200], Loss: 0.0004\n",
            "Epoch [111/200], Loss: 0.0004\n",
            "Epoch [112/200], Loss: 0.0004\n",
            "Epoch [113/200], Loss: 0.0004\n",
            "Epoch [114/200], Loss: 0.0004\n",
            "Epoch [115/200], Loss: 0.0004\n",
            "Epoch [116/200], Loss: 0.0004\n",
            "Epoch [117/200], Loss: 0.0004\n",
            "Epoch [118/200], Loss: 0.0003\n",
            "Epoch [119/200], Loss: 0.0004\n",
            "Epoch [120/200], Loss: 0.0003\n",
            "Epoch [121/200], Loss: 0.0003\n",
            "Epoch [122/200], Loss: 0.0003\n",
            "Epoch [123/200], Loss: 0.0003\n",
            "Epoch [124/200], Loss: 0.0003\n",
            "Epoch [125/200], Loss: 0.0003\n",
            "Epoch [126/200], Loss: 0.0004\n",
            "Epoch [127/200], Loss: 0.0004\n",
            "Epoch [128/200], Loss: 0.0004\n",
            "Epoch [129/200], Loss: 0.0003\n",
            "Epoch [130/200], Loss: 0.0003\n",
            "Epoch [131/200], Loss: 0.0003\n",
            "Epoch [132/200], Loss: 0.0003\n",
            "Epoch [133/200], Loss: 0.0003\n",
            "Epoch [134/200], Loss: 0.0003\n",
            "Epoch [135/200], Loss: 0.0002\n",
            "Epoch [136/200], Loss: 0.0002\n",
            "Epoch [137/200], Loss: 0.0003\n",
            "Epoch [138/200], Loss: 0.0003\n",
            "Epoch [139/200], Loss: 0.0002\n",
            "Epoch [140/200], Loss: 0.0002\n",
            "Epoch [141/200], Loss: 0.0002\n",
            "Epoch [142/200], Loss: 0.0002\n",
            "Epoch [143/200], Loss: 0.0002\n",
            "Epoch [144/200], Loss: 0.0002\n",
            "Epoch [145/200], Loss: 0.0002\n",
            "Epoch [146/200], Loss: 0.0002\n",
            "Epoch [147/200], Loss: 0.0002\n",
            "Epoch [148/200], Loss: 0.0002\n",
            "Epoch [149/200], Loss: 0.0002\n",
            "Epoch [150/200], Loss: 0.0002\n",
            "Epoch [151/200], Loss: 0.0002\n",
            "Epoch [152/200], Loss: 0.0002\n",
            "Epoch [153/200], Loss: 0.0002\n",
            "Epoch [154/200], Loss: 0.0002\n",
            "Epoch [155/200], Loss: 0.0002\n",
            "Epoch [156/200], Loss: 0.0002\n",
            "Epoch [157/200], Loss: 0.0002\n",
            "Epoch [158/200], Loss: 0.0002\n",
            "Epoch [159/200], Loss: 0.0002\n",
            "Epoch [160/200], Loss: 0.0002\n",
            "Epoch [161/200], Loss: 0.0002\n",
            "Epoch [162/200], Loss: 0.0002\n",
            "Epoch [163/200], Loss: 0.0002\n",
            "Epoch [164/200], Loss: 0.0002\n",
            "Epoch [165/200], Loss: 0.0002\n",
            "Epoch [166/200], Loss: 0.0002\n",
            "Epoch [167/200], Loss: 0.0002\n",
            "Epoch [168/200], Loss: 0.0001\n",
            "Epoch [169/200], Loss: 0.0001\n",
            "Epoch [170/200], Loss: 0.0001\n",
            "Epoch [171/200], Loss: 0.0002\n",
            "Epoch [172/200], Loss: 0.0001\n",
            "Epoch [173/200], Loss: 0.0001\n",
            "Epoch [174/200], Loss: 0.0001\n",
            "Epoch [175/200], Loss: 0.0001\n",
            "Epoch [176/200], Loss: 0.0001\n",
            "Epoch [177/200], Loss: 0.0001\n",
            "Epoch [178/200], Loss: 0.0001\n",
            "Epoch [179/200], Loss: 0.0001\n",
            "Epoch [180/200], Loss: 0.0001\n",
            "Epoch [181/200], Loss: 0.0001\n",
            "Epoch [182/200], Loss: 0.0002\n",
            "Epoch [183/200], Loss: 0.0003\n",
            "Epoch [184/200], Loss: 0.0007\n",
            "Epoch [185/200], Loss: 0.0003\n",
            "Epoch [186/200], Loss: 0.0003\n",
            "Epoch [187/200], Loss: 0.0002\n",
            "Epoch [188/200], Loss: 0.0002\n",
            "Epoch [189/200], Loss: 0.0001\n",
            "Epoch [190/200], Loss: 0.0001\n",
            "Epoch [191/200], Loss: 0.0001\n",
            "Epoch [192/200], Loss: 0.0001\n",
            "Epoch [193/200], Loss: 0.0001\n",
            "Epoch [194/200], Loss: 0.0001\n",
            "Epoch [195/200], Loss: 0.0001\n",
            "Epoch [196/200], Loss: 0.0001\n",
            "Epoch [197/200], Loss: 0.0001\n",
            "Epoch [198/200], Loss: 0.0001\n",
            "Epoch [199/200], Loss: 0.0001\n",
            "Epoch [200/200], Loss: 0.0001\n",
            "Accuracy of the network on the 1000 validation data: 99.90 %\n"
          ],
          "name": "stdout"
        }
      ]
    },
    {
      "cell_type": "markdown",
      "metadata": {
        "id": "GTub-EaPiM_H",
        "colab_type": "text"
      },
      "source": [
        "### Exercice 4: Prediction on test set\n",
        "\n",
        "Once you have a model that seems satisfying on the validation dataset, you SHOULD evaluate it on a test dataset that has never been used before, to obtain a final accuracy value."
      ]
    },
    {
      "cell_type": "code",
      "metadata": {
        "id": "-4xatgeZiM_I",
        "colab_type": "code",
        "outputId": "7da6b0a1-6ce5-4e25-dfd0-3a14cda16571",
        "colab": {
          "base_uri": "https://localhost:8080/",
          "height": 54
        }
      },
      "source": [
        "# Here is a test dataset. Use it similarly to the validaiton dataset above\n",
        "# to compute the final performance of your model\n",
        "X_test, y_test = generate_data(500)\n",
        "# predict labels for test set\n",
        "model3.eval() # set the model to test mode\n",
        "with torch.no_grad():\n",
        "    y_pre_test = model3(X_test).view(-1)\n",
        "\n",
        "accuracy(y_test, y_pre_test)"
      ],
      "execution_count": 0,
      "outputs": [
        {
          "output_type": "stream",
          "text": [
            "Accuracy of the network on the 1000 validation data: 100.00 %\n"
          ],
          "name": "stdout"
        }
      ]
    },
    {
      "cell_type": "code",
      "metadata": {
        "id": "2GgObQnuNk3B",
        "colab_type": "code",
        "outputId": "ff6003d5-ca68-4b37-b12f-9c2cecc0caf0",
        "colab": {
          "base_uri": "https://localhost:8080/",
          "height": 356
        }
      },
      "source": [
        "compare_pred(X_test, y_test, y_pre_test)"
      ],
      "execution_count": 0,
      "outputs": [
        {
          "output_type": "display_data",
          "data": {
            "image/png": "[encoded data removed]",
            "text/plain": [
              "<Figure size 720x360 with 2 Axes>"
            ]
          },
          "metadata": {
            "tags": []
          }
        }
      ]
    }
  ]
}